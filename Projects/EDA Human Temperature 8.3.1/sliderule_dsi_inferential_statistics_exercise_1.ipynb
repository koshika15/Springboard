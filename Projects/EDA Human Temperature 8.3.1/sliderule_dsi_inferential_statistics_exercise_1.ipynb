{
 "cells": [
  {
   "cell_type": "markdown",
   "metadata": {},
   "source": [
    "# What is the True Normal Human Body Temperature? \n",
    "\n",
    "#### Background\n",
    "\n",
    "The mean normal body temperature was held to be 37$^{\\circ}$C or 98.6$^{\\circ}$F for more than 120 years since it was first conceptualized and reported by Carl Wunderlich in a famous 1868 book. But, is this value statistically correct?"
   ]
  },
  {
   "cell_type": "markdown",
   "metadata": {},
   "source": [
    "<h3>Exercises</h3>\n",
    "\n",
    "<p>In this exercise, you will analyze a dataset of human body temperatures and employ the concepts of hypothesis testing, confidence intervals, and statistical significance.</p>\n",
    "\n",
    "<p>Answer the following questions <b>in this notebook below and submit to your Github account</b>.</p> \n",
    "\n",
    "<ol>\n",
    "<li>  Is the distribution of body temperatures normal? \n",
    "    <ul>\n",
    "    <li> Although this is not a requirement for the Central Limit Theorem to hold (read the introduction on Wikipedia's page about the CLT carefully: https://en.wikipedia.org/wiki/Central_limit_theorem), it gives us some peace of mind that the population may also be normally distributed if we assume that this sample is representative of the population.\n",
    "    <li> Think about the way you're going to check for the normality of the distribution. Graphical methods are usually used first, but there are also other ways: https://en.wikipedia.org/wiki/Normality_test\n",
    "    </ul>\n",
    "<li>  Is the sample size large? Are the observations independent?\n",
    "    <ul>\n",
    "    <li> Remember that this is a condition for the Central Limit Theorem, and hence the statistical tests we are using, to apply.\n",
    "    </ul>\n",
    "<li>  Is the true population mean really 98.6 degrees F?\n",
    "    <ul>\n",
    "    <li> First, try a bootstrap hypothesis test.\n",
    "    <li> Now, let's try frequentist statistical testing. Would you use a one-sample or two-sample test? Why?\n",
    "    <li> In this situation, is it appropriate to use the $t$ or $z$ statistic? \n",
    "    <li> Now try using the other test. How is the result be different? Why?\n",
    "    </ul>\n",
    "<li>  Draw a small sample of size 10 from the data and repeat both frequentist tests. \n",
    "    <ul>\n",
    "    <li> Which one is the correct one to use? \n",
    "    <li> What do you notice? What does this tell you about the difference in application of the $t$ and $z$ statistic?\n",
    "    </ul>\n",
    "<li>  At what temperature should we consider someone's temperature to be \"abnormal\"?\n",
    "    <ul>\n",
    "    <li> As in the previous example, try calculating everything using the boostrap approach, as well as the frequentist approach.\n",
    "    <li> Start by computing the margin of error and confidence interval. When calculating the confidence interval, keep in mind that you should use the appropriate formula for one draw, and not N draws.\n",
    "    </ul>\n",
    "<li>  Is there a significant difference between males and females in normal temperature?\n",
    "    <ul>\n",
    "    <li> What testing approach did you use and why?\n",
    "    <li> Write a story with your conclusion in the context of the original problem.\n",
    "    </ul>\n",
    "</ol>\n",
    "\n",
    "You can include written notes in notebook cells using Markdown: \n",
    "   - In the control panel at the top, choose Cell > Cell Type > Markdown\n",
    "   - Markdown syntax: http://nestacms.com/docs/creating-content/markdown-cheat-sheet\n",
    "\n",
    "#### Resources\n",
    "\n",
    "+ Information and data sources: http://www.amstat.org/publications/jse/datasets/normtemp.txt, http://www.amstat.org/publications/jse/jse_data_archive.htm\n",
    "+ Markdown syntax: http://nestacms.com/docs/creating-content/markdown-cheat-sheet\n",
    "\n",
    "****"
   ]
  },
  {
   "cell_type": "code",
   "execution_count": 1,
   "metadata": {},
   "outputs": [],
   "source": [
    "import pandas as pd\n",
    "\n",
    "df = pd.read_csv('data/human_body_temperature.csv')"
   ]
  },
  {
   "cell_type": "code",
   "execution_count": 2,
   "metadata": {},
   "outputs": [],
   "source": [
    "# Your work here."
   ]
  },
  {
   "cell_type": "code",
   "execution_count": 3,
   "metadata": {},
   "outputs": [],
   "source": [
    "# import required libraries\n",
    "\n",
    "import numpy as np\n",
    "import matplotlib.pyplot as plt\n",
    "import seaborn as sns\n",
    "from scipy import stats\n",
    "from statsmodels.stats.weightstats import ztest\n",
    "\n",
    "sns.set()"
   ]
  },
  {
   "cell_type": "code",
   "execution_count": 4,
   "metadata": {},
   "outputs": [],
   "source": [
    "# Helper functions\n",
    "\n",
    "def ecdf(data):\n",
    "    \"\"\"Compute ECDF for a one-dimensional array of measurements.\"\"\"\n",
    "    # Number of data points: n\n",
    "    n = len(data)\n",
    "\n",
    "    # x-data for the ECDF: x\n",
    "    x = np.sort(data)\n",
    "\n",
    "    # y-data for the ECDF: y\n",
    "    y = np.arange(1, n+1) / n\n",
    "\n",
    "    return x, y\n",
    "\n",
    "def draw_bs_reps(data, func, size=1):\n",
    "    \"\"\"Draw bootstrap replicates.\"\"\"\n",
    "\n",
    "    # Initialize array of replicates: bs_replicates\n",
    "    bs_replicates = np.empty(size)\n",
    "\n",
    "    # Generate replicates\n",
    "    for i in range(size):\n",
    "        bs_replicates[i] = func(np.random.choice(data, size=len(data))) \n",
    "\n",
    "    return bs_replicates\n",
    "\n",
    "def draw_perm_reps(data_1, data_2, func, size=1):\n",
    "    \"\"\"Generate multiple permutation replicates.\"\"\"\n",
    "\n",
    "    # Initialize array of replicates: perm_replicates\n",
    "    perm_replicates = np.empty(size)\n",
    "\n",
    "    for i in range(size):\n",
    "        # Generate permutation sample\n",
    "        perm_sample_1, perm_sample_2 = permutation_sample(data_1,data_2)\n",
    "\n",
    "        # Compute the test statistic\n",
    "        perm_replicates[i] = func(perm_sample_1,perm_sample_2)\n",
    "\n",
    "    return perm_replicates\n",
    "\n",
    "def permutation_sample(data_1, data_2):\n",
    "    permuted_data = np.random.permutation(np.concatenate((data_1, data_2)))\n",
    "    return permuted_data[:len(data_1)], permuted_data[len(data_1):]"
   ]
  },
  {
   "cell_type": "code",
   "execution_count": 5,
   "metadata": {},
   "outputs": [
    {
     "name": "stdout",
     "output_type": "stream",
     "text": [
      "<class 'pandas.core.frame.DataFrame'>\n",
      "RangeIndex: 130 entries, 0 to 129\n",
      "Data columns (total 3 columns):\n",
      "temperature    130 non-null float64\n",
      "gender         130 non-null object\n",
      "heart_rate     130 non-null float64\n",
      "dtypes: float64(2), object(1)\n",
      "memory usage: 3.1+ KB\n"
     ]
    }
   ],
   "source": [
    "df.info()"
   ]
  },
  {
   "cell_type": "code",
   "execution_count": 6,
   "metadata": {},
   "outputs": [
    {
     "data": {
      "text/html": [
       "<div>\n",
       "<style scoped>\n",
       "    .dataframe tbody tr th:only-of-type {\n",
       "        vertical-align: middle;\n",
       "    }\n",
       "\n",
       "    .dataframe tbody tr th {\n",
       "        vertical-align: top;\n",
       "    }\n",
       "\n",
       "    .dataframe thead th {\n",
       "        text-align: right;\n",
       "    }\n",
       "</style>\n",
       "<table border=\"1\" class=\"dataframe\">\n",
       "  <thead>\n",
       "    <tr style=\"text-align: right;\">\n",
       "      <th></th>\n",
       "      <th>temperature</th>\n",
       "      <th>gender</th>\n",
       "      <th>heart_rate</th>\n",
       "    </tr>\n",
       "  </thead>\n",
       "  <tbody>\n",
       "    <tr>\n",
       "      <th>0</th>\n",
       "      <td>99.3</td>\n",
       "      <td>F</td>\n",
       "      <td>68.0</td>\n",
       "    </tr>\n",
       "    <tr>\n",
       "      <th>1</th>\n",
       "      <td>98.4</td>\n",
       "      <td>F</td>\n",
       "      <td>81.0</td>\n",
       "    </tr>\n",
       "    <tr>\n",
       "      <th>2</th>\n",
       "      <td>97.8</td>\n",
       "      <td>M</td>\n",
       "      <td>73.0</td>\n",
       "    </tr>\n",
       "    <tr>\n",
       "      <th>3</th>\n",
       "      <td>99.2</td>\n",
       "      <td>F</td>\n",
       "      <td>66.0</td>\n",
       "    </tr>\n",
       "    <tr>\n",
       "      <th>4</th>\n",
       "      <td>98.0</td>\n",
       "      <td>F</td>\n",
       "      <td>73.0</td>\n",
       "    </tr>\n",
       "  </tbody>\n",
       "</table>\n",
       "</div>"
      ],
      "text/plain": [
       "   temperature gender  heart_rate\n",
       "0         99.3      F        68.0\n",
       "1         98.4      F        81.0\n",
       "2         97.8      M        73.0\n",
       "3         99.2      F        66.0\n",
       "4         98.0      F        73.0"
      ]
     },
     "execution_count": 6,
     "metadata": {},
     "output_type": "execute_result"
    }
   ],
   "source": [
    "df.head()"
   ]
  },
  {
   "cell_type": "code",
   "execution_count": 7,
   "metadata": {},
   "outputs": [
    {
     "name": "stdout",
     "output_type": "stream",
     "text": [
      "Mean temperature: 98.24923076923078\n",
      "Standard Deviation of temperature: 0.7331831580389454\n"
     ]
    }
   ],
   "source": [
    "# Calculating mean and standard deviation of the temperature data\n",
    "\n",
    "mean=df.temperature.mean()\n",
    "std=df.temperature.std()\n",
    "print('Mean temperature:',mean)\n",
    "print('Standard Deviation of temperature:',std)"
   ]
  },
  {
   "cell_type": "markdown",
   "metadata": {},
   "source": [
    "## Q1. Is the distribution of body temperatures normal?"
   ]
  },
  {
   "cell_type": "markdown",
   "metadata": {},
   "source": [
    "The body temperature data is normally distributed.\n",
    "\n",
    "To find the normality of given temperature distribution, 3 methods have been used:\n",
    "1. Plot normal PDF with the histogram of the temperature data<p><p>\n",
    "2. Plot ECDF of data with theroretical CDF\n",
    "   <p>As comparing histogram to PDF suffers from binning bias, the ECDF of the data is compared with the theoretical CDF of the normal distribution<p>\n",
    "3. Shapiro-Wilk Test:\n",
    "    <p>Apart from the above graphical methods, in order to further confirm normality, a frequentist test is used. Shapiro-wilk test is used as it has been found to be the most powerful test in most situations<p>\n",
    "        \n",
    "All the above methods show that the data is normally distributed."
   ]
  },
  {
   "cell_type": "markdown",
   "metadata": {},
   "source": [
    "### 1. Plot of normal PDF with the histogram of the temperature data"
   ]
  },
  {
   "cell_type": "code",
   "execution_count": 8,
   "metadata": {},
   "outputs": [
    {
     "data": {
      "text/plain": [
       "Text(0,0.5,'PDF')"
      ]
     },
     "execution_count": 8,
     "metadata": {},
     "output_type": "execute_result"
    },
    {
     "data": {
      "image/png": "[encoded data removed]",
      "text/plain": [
       "<Figure size 432x288 with 1 Axes>"
      ]
     },
     "metadata": {
      "needs_background": "light"
     },
     "output_type": "display_data"
    }
   ],
   "source": [
    "# Drawing a sample of size 10000 from temperature data\n",
    "samples=np.random.normal(mean,std,10000)\n",
    "\n",
    "# Bin size: As the sample size is 130, applying square root rule, bin size = 11.4. \n",
    "# Bin size of 10 is considered for the sake of convenience\n",
    "_=plt.hist(df.temperature,bins=10, density=True)\n",
    "_=plt.hist(samples,density=True,histtype='step',bins=100,linewidth=2)\n",
    "\n",
    "plt.xlabel('Temperature')\n",
    "plt.ylabel('PDF')"
   ]
  },
  {
   "cell_type": "markdown",
   "metadata": {},
   "source": [
    "Distribution of Temperature looks normally distributed. But this plot might suffer from binning bias."
   ]
  },
  {
   "cell_type": "markdown",
   "metadata": {},
   "source": [
    "### 2. Plot ECDF of data with theroretical CDF\n"
   ]
  },
  {
   "cell_type": "code",
   "execution_count": 9,
   "metadata": {},
   "outputs": [
    {
     "data": {
      "text/plain": [
       "Text(0,0.5,'CDF')"
      ]
     },
     "execution_count": 9,
     "metadata": {},
     "output_type": "execute_result"
    },
    {
     "data": {
      "image/png": "[encoded data removed]",
      "text/plain": [
       "<Figure size 432x288 with 1 Axes>"
      ]
     },
     "metadata": {
      "needs_background": "light"
     },
     "output_type": "display_data"
    }
   ],
   "source": [
    "# Calculating x,y for temperature data\n",
    "x,y = ecdf(df.temperature)\n",
    "\n",
    "#Calculating theoretical x,y for data sample\n",
    "x_theor, y_theor = ecdf(samples)\n",
    "\n",
    "# Plotting CDF and ECDF\n",
    "_ = plt.plot(x_theor,y_theor)\n",
    "_ = plt.plot(x,y,marker='.',linestyle='none')\n",
    "\n",
    "plt.xlabel('Temperature')\n",
    "plt.ylabel('CDF')"
   ]
  },
  {
   "cell_type": "markdown",
   "metadata": {},
   "source": [
    "Distribution is normal"
   ]
  },
  {
   "cell_type": "markdown",
   "metadata": {},
   "source": [
    "### 3. Shapiro-Wilk Test"
   ]
  },
  {
   "cell_type": "code",
   "execution_count": 10,
   "metadata": {},
   "outputs": [
    {
     "name": "stdout",
     "output_type": "stream",
     "text": [
      "p-value = 0.23\n"
     ]
    }
   ],
   "source": [
    "print('p-value =',round(stats.shapiro(df.temperature)[1],2))"
   ]
  },
  {
   "cell_type": "markdown",
   "metadata": {},
   "source": [
    "Null hypothesis is that the distribution of temperature values is normal. As p-value is high, we <b>fail to reject the null hypothesis</b>."
   ]
  },
  {
   "cell_type": "markdown",
   "metadata": {},
   "source": [
    "## Q2. Is the sample size large? Are the observations independent?"
   ]
  },
  {
   "cell_type": "markdown",
   "metadata": {},
   "source": [
    "**Large sample size**\n",
    "<p> A sample size is considered large if it is greater than or equal to 30. As the size of the sample sample given here is 130, the sample is large.</p>\n",
    "    \n",
    "**Independent observations**\n",
    "<p> For independence condition, sample size < 10% population size. The sample size is 130, which is 10% of 1300. The population is much larger than 1300, so we can say that the observations are <b>independent</b></p>.\n",
    "    "
   ]
  },
  {
   "cell_type": "markdown",
   "metadata": {},
   "source": [
    "## Q3. Is the true population mean really 98.6 degrees F?"
   ]
  },
  {
   "cell_type": "markdown",
   "metadata": {},
   "source": [
    "### Bootstrap Hypothesis Test"
   ]
  },
  {
   "cell_type": "markdown",
   "metadata": {},
   "source": [
    "<b>Null Hypothesis:</b> Mean normal body temperature of population is 98.6 degrees F\n",
    "<p><b>Alternate Hypothesis:</b> Mean normal body temperature of population is different from 98.6 degrees F"
   ]
  },
  {
   "cell_type": "code",
   "execution_count": 11,
   "metadata": {},
   "outputs": [
    {
     "name": "stdout",
     "output_type": "stream",
     "text": [
      "p-value is 0.0\n"
     ]
    }
   ],
   "source": [
    "# Mean normal body temperature\n",
    "normal_temp = 98.6\n",
    "\n",
    "# Shifting observed temperature values to match their mean to the normal body temperature\n",
    "temperature_shifted = df.temperature - mean + normal_temp\n",
    "\n",
    "# Test statistic: mean minus normal body temperature \n",
    "def diff_from_norm(data,standard_mean=normal_temp):\n",
    "    return np.mean(data) - standard_mean\n",
    "\n",
    "# Observed test statistic\n",
    "diff_obs = diff_from_norm(df.temperature)\n",
    "\n",
    "# Generate bootstrap replicates\n",
    "bs_replicates = draw_bs_reps(temperature_shifted,diff_from_norm,10000)\n",
    "\n",
    "# Calculating p-value: probability of the sample mean as low or lesser than the observed mean \n",
    "# considering null hypothesis is true \n",
    "p_value = np.sum(bs_replicates <= diff_obs)/10000\n",
    "print('p-value is',p_value)"
   ]
  },
  {
   "cell_type": "markdown",
   "metadata": {},
   "source": [
    "As p-value is low, we can <b> reject the null hypothesis</b>. So, <p><b> True population mean is not 98.6 degrees F."
   ]
  },
  {
   "cell_type": "markdown",
   "metadata": {},
   "source": [
    "### Frequentist Statistical Testing"
   ]
  },
  {
   "cell_type": "markdown",
   "metadata": {},
   "source": [
    "<b> One sample vs. Two sample Test:</b> We will use one sample test as one sample of data is being compared to a single number\n",
    "<p><b> z vs. t statistic:</b> As the sample is sufficiently large (sample size = 130), z-statistic is appropriate."
   ]
  },
  {
   "cell_type": "markdown",
   "metadata": {},
   "source": [
    "<b>Null Hypothesis:</b> Mean normal body temperature of population is 98.6 degrees F\n",
    "<p><b>Alternate Hypothesis:</b> Mean normal body temperature of population is different from 98.6 degrees F"
   ]
  },
  {
   "cell_type": "markdown",
   "metadata": {},
   "source": [
    "### Using z statistic (approriate for this case)"
   ]
  },
  {
   "cell_type": "code",
   "execution_count": 12,
   "metadata": {},
   "outputs": [
    {
     "name": "stdout",
     "output_type": "stream",
     "text": [
      "p-value is 4.9021570141012155e-08\n"
     ]
    }
   ],
   "source": [
    "# Applying one sample z-test to calculate p-value\n",
    "p_value= ztest(df.temperature, x2=None,value= 98.6, alternative='two-sided')[1]\n",
    "print('p-value is',p_value)"
   ]
  },
  {
   "cell_type": "markdown",
   "metadata": {},
   "source": [
    "As p-value is low, we can <b> reject the null hypothesis</b>. So, <p><b> True population mean is not 98.6 degrees F."
   ]
  },
  {
   "cell_type": "markdown",
   "metadata": {},
   "source": [
    "### Using t statistic"
   ]
  },
  {
   "cell_type": "code",
   "execution_count": 13,
   "metadata": {},
   "outputs": [
    {
     "name": "stdout",
     "output_type": "stream",
     "text": [
      "p-value i`s 2.4106320415561276e-07\n"
     ]
    }
   ],
   "source": [
    "p_tval = stats.ttest_1samp(df.temperature, popmean=98.6)[1]\n",
    "print('p-value i`s',p_tval)"
   ]
  },
  {
   "cell_type": "markdown",
   "metadata": {},
   "source": [
    "As p-value is low, we can <b> reject the null hypothesis</b>. So, <p><b> True population mean is not 98.6 degrees F."
   ]
  },
  {
   "cell_type": "markdown",
   "metadata": {},
   "source": [
    "### Comparison of z-test and t-test"
   ]
  },
  {
   "cell_type": "markdown",
   "metadata": {},
   "source": [
    "The result from both the tests is same due to large sample size. "
   ]
  },
  {
   "cell_type": "markdown",
   "metadata": {},
   "source": [
    "## Q4. Draw a small sample of size 10 from the data and repeat both frequentist tests. "
   ]
  },
  {
   "cell_type": "markdown",
   "metadata": {},
   "source": [
    "Theoretically, for small samples (<=30), t test is said to give more accurate results. As required to answer this question, we will use both z-test as well as t-test."
   ]
  },
  {
   "cell_type": "code",
   "execution_count": 14,
   "metadata": {},
   "outputs": [
    {
     "name": "stdout",
     "output_type": "stream",
     "text": [
      "p-value for z-test is 0.5456505320984856\n",
      "p-value for t-test is 0.5605730572829598\n"
     ]
    }
   ],
   "source": [
    "small_sample = np.random.choice(df.temperature,size=10)\n",
    "\n",
    "# Applying one sample z-test to calculate p-value\n",
    "small_p_zval= ztest(small_sample, x2=None,value= 98.6, alternative='two-sided')[1]\n",
    "print('p-value for z-test is',small_p_zval)\n",
    "\n",
    "# Applying t-test to calculate p-value\n",
    "small_p_tval = stats.ttest_1samp(small_sample, popmean=98.6)[1]\n",
    "print('p-value for t-test is',small_p_tval)"
   ]
  },
  {
   "cell_type": "markdown",
   "metadata": {},
   "source": [
    "A single sample drawn from the data gave a high p-value for z-test as well as t-test. For the same sample, z-test is always giving a smaller p-value than t-test.\n",
    "\n",
    "In order to better compare the p-values, we have taken multiple samples. "
   ]
  },
  {
   "cell_type": "code",
   "execution_count": 15,
   "metadata": {},
   "outputs": [
    {
     "name": "stdout",
     "output_type": "stream",
     "text": [
      "z-test: no. of small p-val out of 100 : 38\n",
      "t-test: no. of small p-val out of 100 : 30\n"
     ]
    }
   ],
   "source": [
    "size=100\n",
    "small_p_zval = np.empty(size)\n",
    "small_p_tval = np.empty(size)\n",
    "\n",
    "for i in range(size):\n",
    "    small_sample = np.random.choice(df.temperature,size=10)\n",
    "    \n",
    "    # Applying one sample z-test to calculate p-value\n",
    "    small_p_zval[i]= ztest(small_sample, x2=None,value= 98.6, alternative='two-sided')[1]\n",
    "    \n",
    "    \n",
    "    small_p_tval[i] = stats.ttest_1samp(small_sample, popmean=98.6)[1]\n",
    "    \n",
    "#print('p-value for z-test is',small_p_zval<.01)\n",
    "#print('p-value for t-test is',small_p_tval<.01)\n",
    "print(\"z-test: no. of small p-val out of\",size,\":\",np.sum(small_p_zval<.05))\n",
    "print(\"t-test: no. of small p-val out of\",size,\":\",np.sum(small_p_tval<.05))"
   ]
  },
  {
   "cell_type": "markdown",
   "metadata": {},
   "source": [
    "For both the cases, p-value is high most of the times, leading to failure in rejecting null hypothesis. In this case, we can say that the sample size of 10 is too small to reach to any conclusion."
   ]
  },
  {
   "cell_type": "markdown",
   "metadata": {},
   "source": [
    "## Q5. At what temperature should we consider someone's temperature to be \"abnormal\"?"
   ]
  },
  {
   "cell_type": "markdown",
   "metadata": {},
   "source": [
    "### Bootstrap approach"
   ]
  },
  {
   "cell_type": "code",
   "execution_count": 16,
   "metadata": {},
   "outputs": [
    {
     "data": {
      "text/plain": [
       "array([98.12384615, 98.37307692])"
      ]
     },
     "execution_count": 16,
     "metadata": {},
     "output_type": "execute_result"
    }
   ],
   "source": [
    "bs_reps = draw_bs_reps(df.temperature,np.mean,10000)\n",
    "np.percentile(bs_reps,[2.5,97.5])"
   ]
  },
  {
   "cell_type": "markdown",
   "metadata": {},
   "source": [
    "So, temperature outside the range of (98.12, 98.37) should be considered abnormal."
   ]
  },
  {
   "cell_type": "markdown",
   "metadata": {},
   "source": [
    "### Frequentist approach"
   ]
  },
  {
   "cell_type": "code",
   "execution_count": 17,
   "metadata": {},
   "outputs": [
    {
     "name": "stdout",
     "output_type": "stream",
     "text": [
      "98.12319642818166 98.3752651102799\n"
     ]
    }
   ],
   "source": [
    "# Confidence interval = mean +/- MOE at 95% CI\n",
    "\n",
    "# z at 95% confidence\n",
    "z=stats.norm.ppf(.975)\n",
    "\n",
    "# Standard error of mean: sem\n",
    "sem= stats.sem(df.temperature)\n",
    "\n",
    "# Margin of error = z*SEM\n",
    "moe = z*sem\n",
    "\n",
    "print(mean-moe,mean+moe)\n"
   ]
  },
  {
   "cell_type": "markdown",
   "metadata": {},
   "source": [
    "As per frequentist approach, temperature outside the range of (98.12, 98.37) should be considered abnormal."
   ]
  },
  {
   "cell_type": "markdown",
   "metadata": {},
   "source": [
    " ## Q6. Is there a significant difference between males and females in normal temperature?"
   ]
  },
  {
   "cell_type": "markdown",
   "metadata": {},
   "source": [
    "I used two-sample permutation test. The difference of means of female and male temperature is 0.29. Using 2-sample permutation test we can check if this observed difference is by chance.\n",
    "\n",
    "<b><p>Null Hypothesis:</b> There is no difference (less significant) in the mean female and mean male temperature.</p>\n",
    "<b>Alternate Hypothesis:</b> There is significant difference in the mean female and mean male temperature."
   ]
  },
  {
   "cell_type": "code",
   "execution_count": 18,
   "metadata": {},
   "outputs": [
    {
     "data": {
      "text/html": [
       "<div>\n",
       "<style scoped>\n",
       "    .dataframe tbody tr th:only-of-type {\n",
       "        vertical-align: middle;\n",
       "    }\n",
       "\n",
       "    .dataframe tbody tr th {\n",
       "        vertical-align: top;\n",
       "    }\n",
       "\n",
       "    .dataframe thead th {\n",
       "        text-align: right;\n",
       "    }\n",
       "</style>\n",
       "<table border=\"1\" class=\"dataframe\">\n",
       "  <thead>\n",
       "    <tr style=\"text-align: right;\">\n",
       "      <th></th>\n",
       "      <th>temperature</th>\n",
       "      <th>gender</th>\n",
       "      <th>heart_rate</th>\n",
       "    </tr>\n",
       "  </thead>\n",
       "  <tbody>\n",
       "    <tr>\n",
       "      <th>0</th>\n",
       "      <td>99.3</td>\n",
       "      <td>F</td>\n",
       "      <td>68.0</td>\n",
       "    </tr>\n",
       "    <tr>\n",
       "      <th>1</th>\n",
       "      <td>98.4</td>\n",
       "      <td>F</td>\n",
       "      <td>81.0</td>\n",
       "    </tr>\n",
       "    <tr>\n",
       "      <th>2</th>\n",
       "      <td>97.8</td>\n",
       "      <td>M</td>\n",
       "      <td>73.0</td>\n",
       "    </tr>\n",
       "    <tr>\n",
       "      <th>3</th>\n",
       "      <td>99.2</td>\n",
       "      <td>F</td>\n",
       "      <td>66.0</td>\n",
       "    </tr>\n",
       "    <tr>\n",
       "      <th>4</th>\n",
       "      <td>98.0</td>\n",
       "      <td>F</td>\n",
       "      <td>73.0</td>\n",
       "    </tr>\n",
       "  </tbody>\n",
       "</table>\n",
       "</div>"
      ],
      "text/plain": [
       "   temperature gender  heart_rate\n",
       "0         99.3      F        68.0\n",
       "1         98.4      F        81.0\n",
       "2         97.8      M        73.0\n",
       "3         99.2      F        66.0\n",
       "4         98.0      F        73.0"
      ]
     },
     "execution_count": 18,
     "metadata": {},
     "output_type": "execute_result"
    }
   ],
   "source": [
    "df.head()"
   ]
  },
  {
   "cell_type": "code",
   "execution_count": 19,
   "metadata": {},
   "outputs": [
    {
     "data": {
      "text/plain": [
       "array(['F', 'M'], dtype=object)"
      ]
     },
     "execution_count": 19,
     "metadata": {},
     "output_type": "execute_result"
    }
   ],
   "source": [
    "df.gender.unique()"
   ]
  },
  {
   "cell_type": "code",
   "execution_count": 20,
   "metadata": {},
   "outputs": [],
   "source": [
    "f_temp = df[df.gender=='F'].temperature\n",
    "m_temp = df[df.gender=='M'].temperature"
   ]
  },
  {
   "cell_type": "code",
   "execution_count": 21,
   "metadata": {},
   "outputs": [
    {
     "name": "stdout",
     "output_type": "stream",
     "text": [
      "(65,)\n",
      "(65,)\n"
     ]
    }
   ],
   "source": [
    "print(f_temp.shape)\n",
    "print(m_temp.shape)"
   ]
  },
  {
   "cell_type": "code",
   "execution_count": 22,
   "metadata": {},
   "outputs": [
    {
     "data": {
      "image/png": "[encoded data removed]",
      "text/plain": [
       "<Figure size 432x288 with 1 Axes>"
      ]
     },
     "metadata": {
      "needs_background": "light"
     },
     "output_type": "display_data"
    }
   ],
   "source": [
    "# Generate a bee swarm plot  \n",
    "_ = sns.swarmplot(x=df.gender, y =df.temperature,data=df)"
   ]
  },
  {
   "cell_type": "code",
   "execution_count": 23,
   "metadata": {},
   "outputs": [
    {
     "data": {
      "image/png": "[encoded data removed]",
      "text/plain": [
       "<Figure size 432x288 with 1 Axes>"
      ]
     },
     "metadata": {
      "needs_background": "light"
     },
     "output_type": "display_data"
    }
   ],
   "source": [
    "# Generate ECDF and CDF\n",
    "\n",
    "for _ in range(50):\n",
    "    # Generate permutation samples\n",
    "    perm_sample_1, perm_sample_2 = permutation_sample(f_temp,m_temp)\n",
    "   \n",
    "    # Compute ECDFs\n",
    "    x_1, y_1 = ecdf(perm_sample_1)\n",
    "    x_2, y_2 = ecdf(perm_sample_2)\n",
    "   \n",
    "     # Plot ECDFs of permutation sample\n",
    "    _ = plt.plot(x_1, y_1, marker='.', linestyle='none', color='red', alpha=0.02)\n",
    "    _ = plt.plot(x_2, y_2, marker='.', linestyle='none', color='blue', alpha=0.02)\n",
    "    \n",
    "# Create and plot ECDFs from original data\n",
    "x_1, y_1 = ecdf(f_temp)\n",
    "x_2, y_2 = ecdf(m_temp)\n",
    "_ = plt.plot(x_1, y_1, marker='.', linestyle='none', color='red')\n",
    "_ = plt.plot(x_2, y_2, marker='.', linestyle='none', color='blue')\n",
    "\n",
    "# Label axes, set margin, and show plot\n",
    "plt.margins(0.02)\n",
    "_ = plt.xlabel('monthly rainfall (mm)')\n",
    "_ = plt.ylabel('ECDF')\n",
    "plt.show()"
   ]
  },
  {
   "cell_type": "markdown",
   "metadata": {},
   "source": [
    "The ECDF shows that female body temperatures are slightly higher than males."
   ]
  },
  {
   "cell_type": "code",
   "execution_count": 24,
   "metadata": {},
   "outputs": [
    {
     "data": {
      "text/plain": [
       "0.0136"
      ]
     },
     "execution_count": 24,
     "metadata": {},
     "output_type": "execute_result"
    }
   ],
   "source": [
    "# Two sample permutation test\n",
    "\n",
    "emp_diff = np.mean(f_temp) - np.mean(m_temp)\n",
    "\n",
    "def diff_of_means(data_1, data_2):\n",
    "    \"\"\"Difference in means of two arrays.\"\"\"\n",
    "\n",
    "    # The difference of means of data_1, data_2: diff\n",
    "    diff = np.mean(data_1)-np.mean(data_2)\n",
    "    return diff\n",
    "\n",
    "perm_reps = draw_perm_reps(f_temp,m_temp,diff_of_means,10000)\n",
    "perm_p = np.sum(perm_reps>=emp_diff)/len(perm_reps)\n",
    "perm_p"
   ]
  },
  {
   "cell_type": "markdown",
   "metadata": {},
   "source": [
    "In order to consider the significance in difference between male and female temperatures, let us compare p-value with different significance levels:\n",
    "\n",
    "<b>alpha: .01</b>\n",
    "p-value of 0.013 is slightly higher than significance level so we cannot reject the null hypothesis. \n",
    "\n",
    "<b>alpha: .05</b>\n",
    "p-value is lesser than the significance level, so we reject the null hypothesis which means there is significant difference in male and female body temperatures.\n",
    "\n",
    "<p><b> Conclusion on male and female body temperatures</b></p>\n",
    "Considering the low p-value at the typical significance level of .05, we reject the null hypothesis and conclude that <i>There is significant difference in male and female body temperatures</i>. This is also corroborated by the above ECDF that shows that female body temperatures are slightly higher than male body temperatures."
   ]
  },
  {
   "cell_type": "markdown",
   "metadata": {},
   "source": [
    "## Final Conclusion\n",
    "The observed body temperatures are normally distributed with true population mean different from the known standard of 98.6 degrees F.\n",
    "Temperature outside the range of (98.12, 98.37) should be considered abnormal. There is no conclusive difference between male and female body temperatures"
   ]
  }
 ],
 "metadata": {
  "kernelspec": {
   "display_name": "Python 3",
   "language": "python",
   "name": "python3"
  },
  "language_info": {
   "codemirror_mode": {
    "name": "ipython",
    "version": 3
   },
   "file_extension": ".py",
   "mimetype": "text/x-python",
   "name": "python",
   "nbconvert_exporter": "python",
   "pygments_lexer": "ipython3",
   "version": "3.7.0"
  }
 },
 "nbformat": 4,
 "nbformat_minor": 1
}
