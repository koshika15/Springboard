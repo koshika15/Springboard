{
 "cells": [
  {
   "cell_type": "markdown",
   "metadata": {},
   "source": [
    "# Basic Text Classification with Naive Bayes\n",
    "***\n",
    "In the mini-project, you'll learn the basics of text analysis using a subset of movie reviews from the rotten tomatoes database. You'll also use a fundamental technique in Bayesian inference, called Naive Bayes. This mini-project is based on [Lab 10 of Harvard's CS109](https://github.com/cs109/2015lab10) class.  Please free to go to the original lab for additional exercises and solutions."
   ]
  },
  {
   "cell_type": "code",
   "execution_count": 1,
   "metadata": {},
   "outputs": [],
   "source": [
    "%matplotlib inline\n",
    "import numpy as np\n",
    "import scipy as sp\n",
    "import matplotlib as mpl\n",
    "import matplotlib.cm as cm\n",
    "import matplotlib.pyplot as plt\n",
    "import pandas as pd\n",
    "import seaborn as sns\n",
    "from six.moves import range\n",
    "\n",
    "# Setup Pandas\n",
    "pd.set_option('display.width', 500)\n",
    "pd.set_option('display.max_columns', 100)\n",
    "pd.set_option('display.notebook_repr_html', True)\n",
    "\n",
    "# Setup Seaborn\n",
    "sns.set_style(\"whitegrid\")\n",
    "sns.set_context(\"poster\")"
   ]
  },
  {
   "cell_type": "markdown",
   "metadata": {},
   "source": [
    "# Table of Contents\n",
    "\n",
    "* [Rotten Tomatoes Dataset](#Rotten-Tomatoes-Dataset)\n",
    "    * [Explore](#Explore)\n",
    "* [The Vector Space Model and a Search Engine](#The-Vector-Space-Model-and-a-Search-Engine)\n",
    "    * [In Code](#In-Code)\n",
    "* [Naive Bayes](#Naive-Bayes)\n",
    "    * [Multinomial Naive Bayes and Other Likelihood Functions](#Multinomial-Naive-Bayes-and-Other-Likelihood-Functions)\n",
    "    * [Picking Hyperparameters for Naive Bayes and Text Maintenance](#Picking-Hyperparameters-for-Naive-Bayes-and-Text-Maintenance)\n",
    "* [Interpretation](#Interpretation)"
   ]
  },
  {
   "cell_type": "markdown",
   "metadata": {},
   "source": [
    "## Rotten Tomatoes Dataset"
   ]
  },
  {
   "cell_type": "code",
   "execution_count": 2,
   "metadata": {},
   "outputs": [
    {
     "data": {
      "text/html": [
       "<div>\n",
       "<style scoped>\n",
       "    .dataframe tbody tr th:only-of-type {\n",
       "        vertical-align: middle;\n",
       "    }\n",
       "\n",
       "    .dataframe tbody tr th {\n",
       "        vertical-align: top;\n",
       "    }\n",
       "\n",
       "    .dataframe thead th {\n",
       "        text-align: right;\n",
       "    }\n",
       "</style>\n",
       "<table border=\"1\" class=\"dataframe\">\n",
       "  <thead>\n",
       "    <tr style=\"text-align: right;\">\n",
       "      <th></th>\n",
       "      <th>critic</th>\n",
       "      <th>fresh</th>\n",
       "      <th>imdb</th>\n",
       "      <th>publication</th>\n",
       "      <th>quote</th>\n",
       "      <th>review_date</th>\n",
       "      <th>rtid</th>\n",
       "      <th>title</th>\n",
       "    </tr>\n",
       "  </thead>\n",
       "  <tbody>\n",
       "    <tr>\n",
       "      <th>1</th>\n",
       "      <td>Derek Adams</td>\n",
       "      <td>fresh</td>\n",
       "      <td>114709</td>\n",
       "      <td>Time Out</td>\n",
       "      <td>So ingenious in concept, design and execution ...</td>\n",
       "      <td>2009-10-04</td>\n",
       "      <td>9559</td>\n",
       "      <td>Toy story</td>\n",
       "    </tr>\n",
       "    <tr>\n",
       "      <th>2</th>\n",
       "      <td>Richard Corliss</td>\n",
       "      <td>fresh</td>\n",
       "      <td>114709</td>\n",
       "      <td>TIME Magazine</td>\n",
       "      <td>The year's most inventive comedy.</td>\n",
       "      <td>2008-08-31</td>\n",
       "      <td>9559</td>\n",
       "      <td>Toy story</td>\n",
       "    </tr>\n",
       "    <tr>\n",
       "      <th>3</th>\n",
       "      <td>David Ansen</td>\n",
       "      <td>fresh</td>\n",
       "      <td>114709</td>\n",
       "      <td>Newsweek</td>\n",
       "      <td>A winning animated feature that has something ...</td>\n",
       "      <td>2008-08-18</td>\n",
       "      <td>9559</td>\n",
       "      <td>Toy story</td>\n",
       "    </tr>\n",
       "    <tr>\n",
       "      <th>4</th>\n",
       "      <td>Leonard Klady</td>\n",
       "      <td>fresh</td>\n",
       "      <td>114709</td>\n",
       "      <td>Variety</td>\n",
       "      <td>The film sports a provocative and appealing st...</td>\n",
       "      <td>2008-06-09</td>\n",
       "      <td>9559</td>\n",
       "      <td>Toy story</td>\n",
       "    </tr>\n",
       "    <tr>\n",
       "      <th>5</th>\n",
       "      <td>Jonathan Rosenbaum</td>\n",
       "      <td>fresh</td>\n",
       "      <td>114709</td>\n",
       "      <td>Chicago Reader</td>\n",
       "      <td>An entertaining computer-generated, hyperreali...</td>\n",
       "      <td>2008-03-10</td>\n",
       "      <td>9559</td>\n",
       "      <td>Toy story</td>\n",
       "    </tr>\n",
       "  </tbody>\n",
       "</table>\n",
       "</div>"
      ],
      "text/plain": [
       "               critic  fresh    imdb     publication                                              quote review_date  rtid      title\n",
       "1         Derek Adams  fresh  114709        Time Out  So ingenious in concept, design and execution ...  2009-10-04  9559  Toy story\n",
       "2     Richard Corliss  fresh  114709   TIME Magazine                  The year's most inventive comedy.  2008-08-31  9559  Toy story\n",
       "3         David Ansen  fresh  114709        Newsweek  A winning animated feature that has something ...  2008-08-18  9559  Toy story\n",
       "4       Leonard Klady  fresh  114709         Variety  The film sports a provocative and appealing st...  2008-06-09  9559  Toy story\n",
       "5  Jonathan Rosenbaum  fresh  114709  Chicago Reader  An entertaining computer-generated, hyperreali...  2008-03-10  9559  Toy story"
      ]
     },
     "execution_count": 2,
     "metadata": {},
     "output_type": "execute_result"
    }
   ],
   "source": [
    "critics = pd.read_csv('./critics.csv')\n",
    "#let's drop rows with missing quotes\n",
    "critics = critics[~critics.quote.isnull()]\n",
    "critics.head()"
   ]
  },
  {
   "cell_type": "markdown",
   "metadata": {},
   "source": [
    "### Explore"
   ]
  },
  {
   "cell_type": "code",
   "execution_count": 3,
   "metadata": {},
   "outputs": [
    {
     "name": "stdout",
     "output_type": "stream",
     "text": [
      "Number of reviews: 15561\n",
      "Number of critics: 623\n",
      "Number of movies:  1921\n"
     ]
    }
   ],
   "source": [
    "n_reviews = len(critics)\n",
    "n_movies = critics.rtid.unique().size\n",
    "n_critics = critics.critic.unique().size\n",
    "\n",
    "\n",
    "print(\"Number of reviews: {:d}\".format(n_reviews))\n",
    "print(\"Number of critics: {:d}\".format(n_critics))\n",
    "print(\"Number of movies:  {:d}\".format(n_movies))"
   ]
  },
  {
   "cell_type": "code",
   "execution_count": 4,
   "metadata": {},
   "outputs": [
    {
     "data": {
      "image/png": "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\n",
      "text/plain": [
       "<Figure size 432x288 with 1 Axes>"
      ]
     },
     "metadata": {
      "needs_background": "light"
     },
     "output_type": "display_data"
    }
   ],
   "source": [
    "df = critics.copy()\n",
    "df['fresh'] = df.fresh == 'fresh'\n",
    "grp = df.groupby('critic')\n",
    "counts = grp.critic.count()  # number of reviews by each critic\n",
    "means = grp.fresh.mean()     # average freshness for each critic\n",
    "\n",
    "means[counts > 100].hist(bins=10, edgecolor='w', lw=1)\n",
    "# _=plt.hist(means[counts > 100],density=True,histtype='step',linewidth=2)\n",
    "\n",
    "plt.xlabel(\"Average Rating per critic\")\n",
    "plt.ylabel(\"Number of Critics\")\n",
    "plt.yticks([0, 2, 4, 6, 8, 10]);"
   ]
  },
  {
   "cell_type": "markdown",
   "metadata": {},
   "source": [
    "<div class=\"span5 alert alert-info\">\n",
    "<h3>Exercise Set I</h3>\n",
    "<br/>\n",
    "<b>Exercise:</b> Look at the histogram above. Tell a story about the average ratings per critic. What shape does the distribution look like? What is interesting about the distribution? What might explain these interesting things?\n",
    "</div>"
   ]
  },
  {
   "cell_type": "markdown",
   "metadata": {},
   "source": [
    "<div class=\"alert alert-success\" role=\"alert\">\n",
    "\n",
    "The histogram above plots the number of critics against the average ratings given by them (only for critics who have rated more than 100 titles). The mode is around 0.6, and most of the critics have rated the movies above 0.6, so the mean rating must be above 0.6."
    "</div>",   
   ]
  },
  {
   "cell_type": "markdown",
   "metadata": {},
   "source": [
    "## The Vector Space Model and a Search Engine"
   ]
  },
  {
   "cell_type": "markdown",
   "metadata": {},
   "source": [
    "All the diagrams here are snipped from [*Introduction to Information Retrieval* by Manning et. al.]( http://nlp.stanford.edu/IR-book/) which is a great resource on text processing. For additional information on text mining and natural language processing, see [*Foundations of Statistical Natural Language Processing* by Manning and Schutze](http://nlp.stanford.edu/fsnlp/).\n",
    "\n",
    "Also check out Python packages [`nltk`](http://www.nltk.org/), [`spaCy`](https://spacy.io/), [`pattern`](http://www.clips.ua.ac.be/pattern), and their associated resources. Also see [`word2vec`](https://en.wikipedia.org/wiki/Word2vec).\n",
    "\n",
    "Let us define the vector derived from document $d$ by $\\bar V(d)$. What does this mean? Each document is treated as a vector containing information about the words contained in it. Each vector has the same length and each entry \"slot\" in the vector contains some kind of data about the words that appear in the document such as presence/absence (1/0), count (an integer) or some other statistic. Each vector has the same length because each document shared the same vocabulary across the full collection of documents -- this collection is called a *corpus*.\n",
    "\n",
    "To define the vocabulary, we take a union of all words we have seen in all documents. We then just associate an array index with them. So \"hello\" may be at index 5 and \"world\" at index 99.\n",
    "\n",
    "Suppose we have the following corpus:\n",
    "\n",
    "`A Fox one day spied a beautiful bunch of ripe grapes hanging from a vine trained along the branches of a tree. The grapes seemed ready to burst with juice, and the Fox's mouth watered as he gazed longingly at them.`\n",
    "\n",
    "Suppose we treat each sentence as a document $d$. The vocabulary (often called the *lexicon*) is the following:\n",
    "\n",
    "$V = \\left\\{\\right.$ `a, along, and, as, at, beautiful, branches, bunch, burst, day, fox, fox's, from, gazed, grapes, hanging, he, juice, longingly, mouth, of, one, ready, ripe, seemed, spied, the, them, to, trained, tree, vine, watered, with`$\\left.\\right\\}$\n",
    "\n",
    "Then the document\n",
    "\n",
    "`A Fox one day spied a beautiful bunch of ripe grapes hanging from a vine trained along the branches of a tree`\n",
    "\n",
    "may be represented as the following sparse vector of word counts:\n",
    "\n",
    "$$\\bar V(d) = \\left( 4,1,0,0,0,1,1,1,0,1,1,0,1,0,1,1,0,0,0,0,2,1,0,1,0,0,1,0,0,1,1,1,0,0 \\right)$$\n",
    "\n",
    "or more succinctly as\n",
    "\n",
    "`[(0, 4), (1, 1), (5, 1), (6, 1), (7, 1), (9, 1), (10, 1), (12, 1), (14, 1), (15, 1), (20, 2), (21, 1), (23, 1),`\n",
    "`(26, 1), (29,1), (30, 1), (31, 1)]`\n",
    "\n",
    "along with a dictionary\n",
    "\n",
    "``\n",
    "{\n",
    "    0: a, 1: along, 5: beautiful, 6: branches, 7: bunch, 9: day, 10: fox, 12: from, 14: grapes, 15: hanging, 19: mouth, 20: of, 21: one, 23: ripe, 24: seemed, 25: spied, 26: the, 29:trained, 30: tree, 31: vine, \n",
    "}\n",
    "``\n",
    "\n",
    "Then, a set of documents becomes, in the usual `sklearn` style, a sparse matrix with rows being sparse arrays representing documents and columns representing the features/words in the vocabulary.\n",
    "\n",
    "Notice that this representation loses the relative ordering of the terms in the document. That is \"cat ate rat\" and \"rat ate cat\" are the same. Thus, this representation is also known as the Bag-Of-Words representation.\n",
    "\n",
    "Here is another example, from the book quoted above, although the matrix is transposed here so that documents are columns:\n",
    "\n",
    "![novel terms](terms.png)\n",
    "\n",
    "Such a matrix is also catted a Term-Document Matrix. Here, the terms being indexed could be stemmed before indexing; for instance, `jealous` and `jealousy` after stemming are the same feature. One could also make use of other \"Natural Language Processing\" transformations in constructing the vocabulary. We could use Lemmatization, which reduces words to lemmas: work, working, worked would all reduce to work. We could remove \"stopwords\" from our vocabulary, such as common words like \"the\". We could look for particular parts of speech, such as adjectives. This is often done in Sentiment Analysis. And so on. It all depends on our application.\n",
    "\n",
    "From the book:\n",
    ">The standard way of quantifying the similarity between two documents $d_1$ and $d_2$  is to compute the cosine similarity of their vector representations $\\bar V(d_1)$ and $\\bar V(d_2)$:\n",
    "\n",
    "$$S_{12} = \\frac{\\bar V(d_1) \\cdot \\bar V(d_2)}{|\\bar V(d_1)| \\times |\\bar V(d_2)|}$$\n",
    "\n",
    "![Vector Space Model](vsm.png)\n",
    "\n",
    "\n",
    ">There is a far more compelling reason to represent documents as vectors: we can also view a query as a vector. Consider the query q = jealous gossip. This query turns into the unit vector $\\bar V(q)$ = (0, 0.707, 0.707) on the three coordinates below. \n",
    "\n",
    "![novel terms](terms2.png)\n",
    "\n",
    ">The key idea now: to assign to each document d a score equal to the dot product:\n",
    "\n",
    "$$\\bar V(q) \\cdot \\bar V(d)$$\n",
    "\n",
    "Then we can use this simple Vector Model as a Search engine."
   ]
  },
  {
   "cell_type": "markdown",
   "metadata": {},
   "source": [
    "### In Code"
   ]
  },
  {
   "cell_type": "code",
   "execution_count": 5,
   "metadata": {},
   "outputs": [
    {
     "name": "stdout",
     "output_type": "stream",
     "text": [
      "Original text is\n",
      "Hop on pop\n",
      "Hop off pop\n",
      "Hop Hop hop\n",
      "\n",
      "Transformed text vector is \n",
      "[[1 0 1 1]\n",
      " [1 1 0 1]\n",
      " [3 0 0 0]]\n",
      "\n",
      "Words for each feature:\n",
      "['hop', 'off', 'on', 'pop']\n"
     ]
    }
   ],
   "source": [
    "from sklearn.feature_extraction.text import CountVectorizer\n",
    "\n",
    "text = ['Hop on pop', 'Hop off pop', 'Hop Hop hop']\n",
    "print(\"Original text is\\n{}\".format('\\n'.join(text)))\n",
    "\n",
    "vectorizer = CountVectorizer(min_df=0)\n",
    "\n",
    "# call `fit` to build the vocabulary\n",
    "vectorizer.fit(text)\n",
    "\n",
    "# call `transform` to convert text to a bag of words\n",
    "x = vectorizer.transform(text)\n",
    "\n",
    "# CountVectorizer uses a sparse array to save memory, but it's easier in this assignment to \n",
    "# convert back to a \"normal\" numpy array\n",
    "x = x.toarray()\n",
    "\n",
    "print(\"\")\n",
    "print(\"Transformed text vector is \\n{}\".format(x))\n",
    "\n",
    "# `get_feature_names` tracks which word is associated with each column of the transformed x\n",
    "print(\"\")\n",
    "print(\"Words for each feature:\")\n",
    "print(vectorizer.get_feature_names())\n",
    "\n",
    "# Notice that the bag of words treatment doesn't preserve information about the *order* of words, \n",
    "# just their frequency"
   ]
  },
  {
   "cell_type": "code",
   "execution_count": 6,
   "metadata": {},
   "outputs": [],
   "source": [
    "def make_xy(critics, vectorizer=None):\n",
    "    #Your code here    \n",
    "    if vectorizer is None:\n",
    "        vectorizer = CountVectorizer()\n",
    "    X = vectorizer.fit_transform(critics.quote)\n",
    "    X = X.tocsc()  # some versions of sklearn return COO format\n",
    "    y = (critics.fresh == 'fresh').values.astype(np.int)\n",
    "    return X, y\n",
    "X, y = make_xy(critics)"
   ]
  },
  {
   "cell_type": "markdown",
   "metadata": {},
   "source": [
    "## Naive Bayes"
   ]
  },
  {
   "cell_type": "markdown",
   "metadata": {},
   "source": [
    "From Bayes' Theorem, we have that\n",
    "\n",
    "$$P(c \\vert f) = \\frac{P(c \\cap f)}{P(f)}$$\n",
    "\n",
    "where $c$ represents a *class* or category, and $f$ represents a feature vector, such as $\\bar V(d)$ as above. **We are computing the probability that a document (or whatever we are classifying) belongs to category *c* given the features in the document.** $P(f)$ is really just a normalization constant, so the literature usually writes Bayes' Theorem in context of Naive Bayes as\n",
    "\n",
    "$$P(c \\vert f) \\propto P(f \\vert c) P(c) $$\n",
    "\n",
    "$P(c)$ is called the *prior* and is simply the probability of seeing class $c$. But what is $P(f \\vert c)$? This is the probability that we see feature set $f$ given that this document is actually in class $c$. This is called the *likelihood* and comes from the data. One of the major assumptions of the Naive Bayes model is that the features are *conditionally independent* given the class. While the presence of a particular discriminative word may uniquely identify the document as being part of class $c$ and thus violate general feature independence, conditional independence means that the presence of that term is independent of all the other words that appear *within that class*. This is a very important distinction. Recall that if two events are independent, then:\n",
    "\n",
    "$$P(A \\cap B) = P(A) \\cdot P(B)$$\n",
    "\n",
    "Thus, conditional independence implies\n",
    "\n",
    "$$P(f \\vert c)  = \\prod_i P(f_i | c) $$\n",
    "\n",
    "where $f_i$ is an individual feature (a word in this example).\n",
    "\n",
    "To make a classification, we then choose the class $c$ such that $P(c \\vert f)$ is maximal.\n",
    "\n",
    "There is a small caveat when computing these probabilities. For [floating point underflow](http://nlp.stanford.edu/IR-book/html/htmledition/naive-bayes-text-classification-1.html) we change the product into a sum by going into log space. This is called the LogSumExp trick. So:\n",
    "\n",
    "$$\\log P(f \\vert c)  = \\sum_i \\log P(f_i \\vert c) $$\n",
    "\n",
    "There is another caveat. What if we see a term that didn't exist in the training data? This means that $P(f_i \\vert c) = 0$ for that term, and thus $P(f \\vert c)  = \\prod_i P(f_i | c) = 0$, which doesn't help us at all. Instead of using zeros, we add a small negligible value called $\\alpha$ to each count. This is called Laplace Smoothing.\n",
    "\n",
    "$$P(f_i \\vert c) = \\frac{N_{ic}+\\alpha}{N_c + \\alpha N_i}$$\n",
    "\n",
    "where $N_{ic}$ is the number of times feature $i$ was seen in class $c$, $N_c$ is the number of times class $c$ was seen and $N_i$ is the number of times feature $i$ was seen globally. $\\alpha$ is sometimes called a regularization parameter."
   ]
  },
  {
   "cell_type": "markdown",
   "metadata": {},
   "source": [
    "### Multinomial Naive Bayes and Other Likelihood Functions\n",
    "\n",
    "Since we are modeling word counts, we are using variation of Naive Bayes called Multinomial Naive Bayes. This is because the likelihood function actually takes the form of the multinomial distribution.\n",
    "\n",
    "$$P(f \\vert c) = \\frac{\\left( \\sum_i f_i \\right)!}{\\prod_i f_i!} \\prod_{f_i} P(f_i \\vert c)^{f_i} \\propto \\prod_{i} P(f_i \\vert c)$$\n",
    "\n",
    "where the nasty term out front is absorbed as a normalization constant such that probabilities sum to 1.\n",
    "\n",
    "There are many other variations of Naive Bayes, all which depend on what type of value $f_i$ takes. If $f_i$ is continuous, we may be able to use *Gaussian Naive Bayes*. First compute the mean and variance for each class $c$. Then the likelihood, $P(f \\vert c)$ is given as follows\n",
    "\n",
    "$$P(f_i = v \\vert c) = \\frac{1}{\\sqrt{2\\pi \\sigma^2_c}} e^{- \\frac{\\left( v - \\mu_c \\right)^2}{2 \\sigma^2_c}}$$"
   ]
  },
  {
   "cell_type": "markdown",
   "metadata": {},
   "source": [
    "<div class=\"span5 alert alert-info\">\n",
    "<h3>Exercise Set II</h3>\n",
    "\n",
    "<p><b>Exercise:</b> Implement a simple Naive Bayes classifier:</p>\n",
    "\n",
    "<ol>\n",
    "<li> split the data set into a training and test set\n",
    "<li> Use `scikit-learn`'s `MultinomialNB()` classifier with default parameters.\n",
    "<li> train the classifier over the training set and test on the test set\n",
    "<li> print the accuracy scores for both the training and the test sets\n",
    "</ol>\n",
    "\n",
    "What do you notice? Is this a good classifier? If not, why not?\n",
    "</div>"
   ]
  },
  {
   "cell_type": "code",
   "execution_count": 7,
   "metadata": {},
   "outputs": [
    {
     "name": "stdout",
     "output_type": "stream",
     "text": [
      "Accuracy score of training set: 0.92\n",
      "Accuracy score of test set: 0.78\n"
     ]
    },
    {
     "name": "stderr",
     "output_type": "stream",
     "text": [
      "C:\\Users\\sony\\Anaconda3\\lib\\site-packages\\sklearn\\cross_validation.py:41: DeprecationWarning: This module was deprecated in version 0.18 in favor of the model_selection module into which all the refactored classes and functions are moved. Also note that the interface of the new CV iterators are different from that of this module. This module will be removed in 0.20.\n",
      "  \"This module will be removed in 0.20.\", DeprecationWarning)\n"
     ]
    }
   ],
   "source": [
    "#your turn\n",
    "\n",
    "from sklearn.cross_validation import train_test_split\n",
    "from sklearn.naive_bayes import MultinomialNB\n",
    "\n",
    "Xtrain, Xtest, ytrain, ytest = train_test_split(X,y)\n",
    "clf = MultinomialNB()\n",
    "clf.fit(Xtrain,ytrain)\n",
    "\n",
    "print('Accuracy score of training set:',round(clf.score(Xtrain,ytrain),2))\n",
    "print('Accuracy score of test set:',round(clf.score(Xtest,ytest),2))"
   ]
  },
  {
   "cell_type": "markdown",
   "metadata": {},
   "source": [
    "<div class=\"alert alert-success\" role=\"alert\">\n",
    "\n",
    "As the score of training set is more than that of the test set, we can say that the classifier is overfit."
   ]
  },
  {
   "cell_type": "markdown",
   "metadata": {},
   "source": [
    "### Picking Hyperparameters for Naive Bayes and Text Maintenance"
   ]
  },
  {
   "cell_type": "markdown",
   "metadata": {},
   "source": [
    "We need to know what value to use for $\\alpha$, and we also need to know which words to include in the vocabulary. As mentioned earlier, some words are obvious stopwords. Other words appear so infrequently that they serve as noise, and other words in addition to stopwords appear so frequently that they may also serve as noise."
   ]
  },
  {
   "cell_type": "markdown",
   "metadata": {},
   "source": [
    "First, let's find an appropriate value for `min_df` for the `CountVectorizer`. `min_df` can be either an integer or a float/decimal. If it is an integer, `min_df` represents the minimum number of documents a word must appear in for it to be included in the vocabulary. If it is a float, it represents the minimum *percentage* of documents a word must appear in to be included in the vocabulary. From the documentation:"
   ]
  },
  {
   "cell_type": "markdown",
   "metadata": {},
   "source": [
    ">min_df: When building the vocabulary ignore terms that have a document frequency strictly lower than the given threshold. This value is also called cut-off in the literature. If float, the parameter represents a proportion of documents, integer absolute counts. This parameter is ignored if vocabulary is not None."
   ]
  },
  {
   "cell_type": "markdown",
   "metadata": {},
   "source": [
    "<div class=\"span5 alert alert-info\">\n",
    "<h3>Exercise Set III</h3>\n",
    "\n",
    "<p><b>Exercise:</b> Construct the cumulative distribution of document frequencies (df). The $x$-axis is a document count $x_i$ and the $y$-axis is the percentage of words that appear less than $x_i$ times. For example, at $x=5$, plot a point representing the percentage or number of words that appear in 5 or fewer documents.</p>\n",
    "\n",
    "<p><b>Exercise:</b> Look for the point at which the curve begins climbing steeply. This may be a good value for `min_df`. If we were interested in also picking `max_df`, we would likely pick the value where the curve starts to plateau. What value did you choose?</p>\n",
    "</div>"
   ]
  },
  {
   "cell_type": "code",
   "execution_count": 8,
   "metadata": {},
   "outputs": [],
   "source": [
    "# Your turn.\n",
    "\n",
    "# Convert X to an array\n",
    "temp = X.toarray()\n",
    "doc_freq = temp.sum(axis=0) # Sum the columns to get number of documents a word appears in"
   ]
  },
  {
   "cell_type": "code",
   "execution_count": 9,
   "metadata": {},
   "outputs": [
    {
     "data": {
      "text/plain": [
       "Text(0,0.5,'% of Words appearing in less than X documents')"
      ]
     },
     "execution_count": 9,
     "metadata": {},
     "output_type": "execute_result"
    },
    {
     "data": {
      "text/plain": [
       "<Figure size 1440x1440 with 0 Axes>"
      ]
     },
     "metadata": {},
     "output_type": "display_data"
    },
    {
     "data": {
      "image/png": "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\n",
      "text/plain": [
       "<Figure size 432x288 with 1 Axes>"
      ]
     },
     "metadata": {},
     "output_type": "display_data"
    }
   ],
   "source": [
    "# Plot CDF\n",
    "\n",
    "def ecdf(data):\n",
    "    \"\"\"Compute ECDF for a one-dimensional array of measurements.\"\"\"\n",
    "    # Number of data points: n\n",
    "    n = len(data)\n",
    "\n",
    "    # x-data for the ECDF: x\n",
    "    x = np.sort(data)\n",
    "\n",
    "    # y-data for the ECDF: y\n",
    "    y = np.arange(1, n+1) / n\n",
    "\n",
    "    return x, y\n",
    "\n",
    "d,w = ecdf(doc_freq)\n",
    "\n",
    "sns.set()\n",
    "plt.figure(figsize=(20,20))\n",
    "fig, ax = plt.subplots()\n",
    "\n",
    "_ = plt.plot(d, w*100, marker='.', linestyle='none')\n",
    "\n",
    "ax.set_axisbelow(True)\n",
    "ax.minorticks_on()\n",
    "plt.grid(b=True, which='major', color='r', linestyle='-')\n",
    "plt.grid(b=True, which='minor', color='k', linestyle='--')\n",
    "plt.xlim(-1,100)\n",
    "plt.xlabel('Document count')\n",
    "plt.ylabel('% of Words appearing in less than X documents')\n"
   ]
  },
  {
   "cell_type": "markdown",
   "metadata": {},
   "source": [
    "<div class=\"alert alert-success\" role=\"alert\">\n",
    "\n",
    "The curve starts climbing steeply close to (but not) zero. The curve starts plateauing around x=10.\n",
    "We can choose min_df as 1.\n",
    "</div>"
   ]
  },
  {
   "cell_type": "markdown",
   "metadata": {},
   "source": [
    "The parameter $\\alpha$ is chosen to be a small value that simply avoids having zeros in the probability computations. This value can sometimes be chosen arbitrarily with domain expertise, but we will use K-fold cross validation. In K-fold cross-validation, we divide the data into $K$ non-overlapping parts. We train on $K-1$ of the folds and test on the remaining fold. We then iterate, so that each fold serves as the test fold exactly once. The function `cv_score` performs the K-fold cross-validation algorithm for us, but we need to pass a function that measures the performance of the algorithm on each fold. "
   ]
  },
  {
   "cell_type": "code",
   "execution_count": 10,
   "metadata": {},
   "outputs": [],
   "source": [
    "from sklearn.model_selection import KFold\n",
    "def cv_score(clf, X, y, scorefunc):\n",
    "    result = 0.\n",
    "    nfold = 5\n",
    "    for train, test in KFold(nfold).split(X): # split data into train/test groups, 5 times\n",
    "        clf.fit(X[train], y[train]) # fit the classifier, passed is as clf.\n",
    "        result += scorefunc(clf, X[test], y[test]) # evaluate score function on held-out data\n",
    "    return result / nfold # average"
   ]
  },
  {
   "cell_type": "markdown",
   "metadata": {},
   "source": [
    "We use the log-likelihood as the score here in `scorefunc`. The higher the log-likelihood, the better. Indeed, what we do in `cv_score` above is to implement the cross-validation part of `GridSearchCV`.\n",
    "\n",
    "The custom scoring function `scorefunc` allows us to use different metrics depending on the decision risk we care about (precision, accuracy, profit etc.) directly on the validation set. You will often find people using `roc_auc`, precision, recall, or `F1-score` as the scoring function."
   ]
  },
  {
   "cell_type": "code",
   "execution_count": 11,
   "metadata": {},
   "outputs": [],
   "source": [
    "def log_likelihood(clf, x, y):\n",
    "    prob = clf.predict_log_proba(x)\n",
    "    rotten = y == 0\n",
    "    fresh = ~rotten\n",
    "    return prob[rotten, 0].sum() + prob[fresh, 1].sum()"
   ]
  },
  {
   "cell_type": "markdown",
   "metadata": {},
   "source": [
    "We'll cross-validate over the regularization parameter $\\alpha$."
   ]
  },
  {
   "cell_type": "markdown",
   "metadata": {},
   "source": [
    "Let's set up the train and test masks first, and then we can run the cross-validation procedure."
   ]
  },
  {
   "cell_type": "code",
   "execution_count": 12,
   "metadata": {},
   "outputs": [
    {
     "name": "stderr",
     "output_type": "stream",
     "text": [
      "C:\\Users\\sony\\Anaconda3\\lib\\site-packages\\sklearn\\model_selection\\_split.py:2026: FutureWarning: From version 0.21, test_size will always complement train_size unless both are specified.\n",
      "  FutureWarning)\n"
     ]
    }
   ],
   "source": [
    "from sklearn.model_selection import train_test_split\n",
    "_, itest = train_test_split(range(critics.shape[0]), train_size=0.7)\n",
    "mask = np.zeros(critics.shape[0], dtype=np.bool)\n",
    "mask[itest] = True"
   ]
  },
  {
   "cell_type": "markdown",
   "metadata": {},
   "source": [
    "<div class=\"span5 alert alert-info\">\n",
    "<h3>Exercise Set IV</h3>\n",
    "\n",
    "<p><b>Exercise:</b> What does using the function `log_likelihood` as the score mean? What are we trying to optimize for?</p>\n",
    "\n",
    "<p><b>Exercise:</b> Without writing any code, what do you think would happen if you choose a value of $\\alpha$ that is too high?</p>\n",
    "\n",
    "<p><b>Exercise:</b> Using the skeleton code below, find the best values of the parameter `alpha`, and use the value of `min_df` you chose in the previous exercise set. Use the `cv_score` function above with the `log_likelihood` function for scoring.</p>\n",
    "</div>"
   ]
  },
  {
   "cell_type": "markdown",
   "metadata": {},
   "source": [
    "<div class=\"alert alert-success\" role=\"alert\">\n",
    "\n",
    "Using the function 'log_likelihood' as the score means the 'log_likelihood' function is used as a measure for the performance of the algorithm on each fold.\n",
    "We are trying to optimize for $\\alpha$ by maximizing the likelihood function.\n",
    "\n",
    "α is a hyper-parameter to smoothen the model so as to avoid chances of 0 probabilities in calculations. Higher values of α might result in too much smoothening and thus affecting the accuracy of the result.\n",
    "</div>"
   ]
  },
  {
   "cell_type": "code",
   "execution_count": 13,
   "metadata": {},
   "outputs": [],
   "source": [
    "from sklearn.naive_bayes import MultinomialNB\n",
    "\n",
    "#the grid of parameters to search over\n",
    "alphas = [.1, 1, 5, 10, 50]\n",
    "best_min_df = 1 # YOUR TURN: put your value of min_df here.\n",
    "\n",
    "#Find the best value for alpha and min_df, and the best classifier\n",
    "best_alpha = None\n",
    "maxscore=-np.inf\n",
    "for alpha in alphas:        \n",
    "    vectorizer = CountVectorizer(min_df=best_min_df)       \n",
    "    Xthis, ythis = make_xy(critics, vectorizer)\n",
    "    Xtrainthis = Xthis[mask]\n",
    "    ytrainthis = ythis[mask]\n",
    "    # your turn\n",
    "    clf = MultinomialNB(alpha=alpha)\n",
    "    clf.fit(Xtrainthis,ytrainthis)\n",
    "    score = cv_score(clf, Xtrainthis, ytrainthis, log_likelihood)\n",
    "    if score>maxscore:\n",
    "        best_alpha = alpha\n",
    "        maxscore = score"
   ]
  },
  {
   "cell_type": "code",
   "execution_count": 14,
   "metadata": {},
   "outputs": [
    {
     "name": "stdout",
     "output_type": "stream",
     "text": [
      "alpha: 1\n"
     ]
    }
   ],
   "source": [
    "print(\"alpha: {}\".format(best_alpha))"
   ]
  },
  {
   "cell_type": "markdown",
   "metadata": {},
   "source": [
    "<div class=\"span5 alert alert-info\">\n",
    "<h3>Exercise Set V: Working with the Best Parameters</h3>\n",
    "\n",
    "<p><b>Exercise:</b> Using the best value of  `alpha` you just found, calculate the accuracy on the training and test sets. Is this classifier better? Why (not)?</p>\n",
    "\n",
    "</div>"
   ]
  },
  {
   "cell_type": "code",
   "execution_count": 15,
   "metadata": {},
   "outputs": [
    {
     "name": "stdout",
     "output_type": "stream",
     "text": [
      "Accuracy on training data: 0.929964\n",
      "Accuracy on test data:     0.724844\n"
     ]
    }
   ],
   "source": [
    "vectorizer = CountVectorizer(min_df=best_min_df)\n",
    "X, y = make_xy(critics, vectorizer)\n",
    "xtrain=X[mask]\n",
    "ytrain=y[mask]\n",
    "xtest=X[~mask]\n",
    "ytest=y[~mask]\n",
    "\n",
    "clf = MultinomialNB(alpha=best_alpha).fit(xtrain, ytrain)\n",
    "\n",
    "#your turn. Print the accuracy on the test and training dataset\n",
    "training_accuracy = clf.score(xtrain, ytrain)\n",
    "test_accuracy = clf.score(xtest, ytest)\n",
    "\n",
    "print(\"Accuracy on training data: {:2f}\".format(training_accuracy))\n",
    "print(\"Accuracy on test data:     {:2f}\".format(test_accuracy))"
   ]
  },
  {
   "cell_type": "markdown",
   "metadata": {},
   "source": [
    "<div class=\"alert alert-success\" role=\"alert\">\n",
    "\n",
    "Let's look at the accuracy scores calculated earlier:\n",
    "\n",
    "Accuracy score of training set: 0.92\n",
    "Accuracy score of test set: 0.77\n",
    "\n",
    "In comparison with the prior one, this classifier is worse. Also, there is higher accuracy of training data shows that this classifier is also overfitted. The reason of overfitting might be a high value of α. From the plot above, we can see that the curve starts steeping close to 0, so ideally, we should have checked the classifier for different values of α between 0 and 1, and then chosen the best one."
   ]
  },
  {
   "cell_type": "code",
   "execution_count": 16,
   "metadata": {},
   "outputs": [
    {
     "name": "stdout",
     "output_type": "stream",
     "text": [
      "[[1909 2371]\n",
      " [ 626 5986]]\n"
     ]
    }
   ],
   "source": [
    "from sklearn.metrics import confusion_matrix\n",
    "print(confusion_matrix(ytest, clf.predict(xtest)))"
   ]
  },
  {
   "cell_type": "markdown",
   "metadata": {},
   "source": [
    "## Interpretation"
   ]
  },
  {
   "cell_type": "markdown",
   "metadata": {},
   "source": [
    "### What are the strongly predictive features?\n",
    "\n",
    "We use a neat trick to identify strongly predictive features (i.e. words). \n",
    "\n",
    "* first, create a data set such that each row has exactly one feature. This is represented by the identity matrix.\n",
    "* use the trained classifier to make predictions on this matrix\n",
    "* sort the rows by predicted probabilities, and pick the top and bottom $K$ rows"
   ]
  },
  {
   "cell_type": "code",
   "execution_count": 17,
   "metadata": {},
   "outputs": [
    {
     "name": "stdout",
     "output_type": "stream",
     "text": [
      "Good words\t     P(fresh | word)\n",
      "             delight 0.96\n",
      "             crafted 0.96\n",
      "       extraordinary 0.95\n",
      "            greatest 0.95\n",
      "             kubrick 0.95\n",
      "            eastwood 0.95\n",
      "          remarkable 0.95\n",
      "              finest 0.95\n",
      "              thanks 0.94\n",
      "            captures 0.94\n",
      "Bad words\t     P(fresh | word)\n",
      "               cable 0.14\n",
      "           halloween 0.14\n",
      "                read 0.14\n",
      "            tiresome 0.13\n",
      "           pointless 0.11\n",
      "               tepid 0.11\n",
      "               lacks 0.10\n",
      "          uninspired 0.10\n",
      "               bland 0.07\n",
      "                lame 0.07\n"
     ]
    }
   ],
   "source": [
    "words = np.array(vectorizer.get_feature_names())\n",
    "\n",
    "x = np.eye(xtest.shape[1])\n",
    "probs = clf.predict_log_proba(x)[:, 0]\n",
    "ind = np.argsort(probs)\n",
    "\n",
    "good_words = words[ind[:10]]\n",
    "bad_words = words[ind[-10:]]\n",
    "\n",
    "good_prob = probs[ind[:10]]\n",
    "bad_prob = probs[ind[-10:]]\n",
    "\n",
    "print(\"Good words\\t     P(fresh | word)\")\n",
    "for w, p in zip(good_words, good_prob):\n",
    "    print(\"{:>20}\".format(w), \"{:.2f}\".format(1 - np.exp(p)))\n",
    "    \n",
    "print(\"Bad words\\t     P(fresh | word)\")\n",
    "for w, p in zip(bad_words, bad_prob):\n",
    "    print(\"{:>20}\".format(w), \"{:.2f}\".format(1 - np.exp(p)))"
   ]
  },
  {
   "cell_type": "markdown",
   "metadata": {},
   "source": [
    "<div class=\"span5 alert alert-info\">\n",
    "<h3>Exercise Set VI</h3>\n",
    "\n",
    "<p><b>Exercise:</b> Why does this method work? What does the probability for each row in the identity matrix represent</p>\n",
    "\n",
    "</div>"
   ]
  },
  {
   "cell_type": "markdown",
   "metadata": {},
   "source": [
    "<div class=\"alert alert-success\" role=\"alert\">\n",
    "\n",
    "We see a high probability for some words which means that a single word is sufficient to predict the class (either fresh or rotten). This means that the words shown above have high predictive powers.\n",
    "\n",
    "The probability of each row represents the probability of classifying as fresh is the feature in that row is seen."
   ]
  },
  {
   "cell_type": "markdown",
   "metadata": {},
   "source": [
    "The above exercise is an example of *feature selection*. There are many other feature selection methods. A list of feature selection methods available in `sklearn` is [here](http://scikit-learn.org/stable/modules/classes.html#module-sklearn.feature_selection). The most common feature selection technique for text mining is the chi-squared $\\left( \\chi^2 \\right)$ [method](http://nlp.stanford.edu/IR-book/html/htmledition/feature-selectionchi2-feature-selection-1.html)."
   ]
  },
  {
   "cell_type": "markdown",
   "metadata": {},
   "source": [
    "### Prediction Errors\n",
    "\n",
    "We can see mis-predictions as well."
   ]
  },
  {
   "cell_type": "code",
   "execution_count": 18,
   "metadata": {},
   "outputs": [
    {
     "name": "stdout",
     "output_type": "stream",
     "text": [
      "Mis-predicted Rotten quotes\n",
      "---------------------------\n",
      "What if this lesser-known chapter of German resistance had been more deeply captured? What if the moral conflicts running through this movie about love of country and revolt said more about Germany, war and, yes, genocide?\n",
      "\n",
      "As beautifully photographed and intelligently-written as the movie is, it has no emotional depth or appeal, and is often as cold and clinical as its gray depiction of Seattle.\n",
      "\n",
      "This pacifist spirit of brotherhood echoes the heroics in Princess Mononoke and other anime titles, but the artistic gap between the Miyazaki masterpiece and this project is huge.\n",
      "\n",
      "Lee is a long way from the size and scope of his best film, Do the Right Thing, but at least he is working on a subject he cares about and is doing it with polish.\n",
      "\n",
      "Though based on an original and respected novel, Hyams' horror thriller comes across as a pastiche of the genre's conventions as evident in major pictures of the past two decades, such as Jaws and the first two Alien films.\n",
      "\n",
      "Mis-predicted Fresh quotes\n",
      "--------------------------\n",
      "The repetitive plot is essentially a string of excuses for fantastical combat sequences, but somehow several characters' insistence that violence is bad doesn't come off as hypocritical.\n",
      "\n",
      "Practically an elder statesman compared to the technobrats Bruckheimer usually employs, Scott also pays attention to the acting and it pays off.\n",
      "\n",
      "Certain, probably arrested, personalities (like mine) just find this kind of sh*t pretty funny and any attempt to talk your way around that is, as Cartman would say, blowing bubbles out your *ss.\n",
      "\n",
      "Though the clock ticks relentlessly enough to sustain the story's tension, the film finally seems to be a character study in search of a gripping plot.\n",
      "\n",
      "It's inanely-scripted exploitation, sure, but this 'Halloween' doesn't trivialise; it even returns with sympathy to one victim minutes after the attack that has left her bleeding on the floor.\n",
      "\n"
     ]
    }
   ],
   "source": [
    "x, y = make_xy(critics, vectorizer)\n",
    "\n",
    "prob = clf.predict_proba(x)[:, 0]\n",
    "predict = clf.predict(x)\n",
    "\n",
    "bad_rotten = np.argsort(prob[y == 0])[:5]\n",
    "bad_fresh = np.argsort(prob[y == 1])[-5:]\n",
    "\n",
    "print(\"Mis-predicted Rotten quotes\")\n",
    "print('---------------------------')\n",
    "for row in bad_rotten:\n",
    "    print(critics[y == 0].quote.iloc[row])\n",
    "    print(\"\")\n",
    "\n",
    "print(\"Mis-predicted Fresh quotes\")\n",
    "print('--------------------------')\n",
    "for row in bad_fresh:\n",
    "    print(critics[y == 1].quote.iloc[row])\n",
    "    print(\"\")"
   ]
  },
  {
   "cell_type": "markdown",
   "metadata": {},
   "source": [
    "<div class=\"span5 alert alert-info\">\n",
    "<h3>Exercise Set VII: Predicting the Freshness for a New Review</h3>\n",
    "<br/>\n",
    "<div>\n",
    "<b>Exercise:</b>\n",
    "<ul>\n",
    "<li> Using your best trained classifier, predict the freshness of the following sentence: *'This movie is not remarkable, touching, or superb in any way'*\n",
    "<li> Is the result what you'd expect? Why (not)?\n",
    "</ul>\n",
    "</div>\n",
    "</div>"
   ]
  },
  {
   "cell_type": "code",
   "execution_count": 19,
   "metadata": {},
   "outputs": [
    {
     "data": {
      "text/plain": [
       "1"
      ]
     },
     "execution_count": 19,
     "metadata": {},
     "output_type": "execute_result"
    }
   ],
   "source": [
    "#your turn\n",
    "\n",
    "x = vectorizer.transform([\"This movie is not remarkable, touching, or superb in any way\"])\n",
    "\n",
    "y_pred = clf.predict(x)\n",
    "y_pred[0]"
   ]
  },
  {
   "cell_type": "markdown",
   "metadata": {},
   "source": [
    "<div class=\"alert alert-success\" role=\"alert\">\n",
    "\n",
    "Predicted class 1 means 'fresh', though looking at the given sentence, the class should be 'rotten'. So the result is not what we expect.\n",
    "The reason for wrong classification is that there are lot of positive words and our classifier looks at each word and combine the probabilities to predict fresh vs rotten."
   ]
  },
  {
   "cell_type": "markdown",
   "metadata": {},
   "source": [
    "### Aside: TF-IDF Weighting for Term Importance\n",
    "\n",
    "TF-IDF stands for \n",
    "\n",
    "`Term-Frequency X Inverse Document Frequency`.\n",
    "\n",
    "In the standard `CountVectorizer` model above, we used just the term frequency in a document of words in our vocabulary. In TF-IDF, we weight this term frequency by the inverse of its popularity in all documents. For example, if the word \"movie\" showed up in all the documents, it would not have much predictive value. It could actually be considered a stopword. By weighing its counts by 1 divided by its overall frequency, we downweight it. We can then use this TF-IDF weighted features as inputs to any classifier. **TF-IDF is essentially a measure of term importance, and of how discriminative a word is in a corpus.** There are a variety of nuances involved in computing TF-IDF, mainly involving where to add the smoothing term to avoid division by 0, or log of 0 errors. The formula for TF-IDF in `scikit-learn` differs from that of most textbooks: \n",
    "\n",
    "$$\\mbox{TF-IDF}(t, d) = \\mbox{TF}(t, d)\\times \\mbox{IDF}(t) = n_{td} \\log{\\left( \\frac{\\vert D \\vert}{\\vert d : t \\in d \\vert} + 1 \\right)}$$\n",
    "\n",
    "where $n_{td}$ is the number of times term $t$ occurs in document $d$, $\\vert D \\vert$ is the number of documents, and $\\vert d : t \\in d \\vert$ is the number of documents that contain $t$"
   ]
  },
  {
   "cell_type": "code",
   "execution_count": 20,
   "metadata": {},
   "outputs": [],
   "source": [
    "# http://scikit-learn.org/dev/modules/feature_extraction.html#text-feature-extraction\n",
    "# http://scikit-learn.org/dev/modules/classes.html#text-feature-extraction-ref\n",
    "from sklearn.feature_extraction.text import TfidfVectorizer\n",
    "tfidfvectorizer = TfidfVectorizer(min_df=1, stop_words='english')\n",
    "Xtfidf=tfidfvectorizer.fit_transform(critics.quote)"
   ]
  },
  {
   "cell_type": "markdown",
   "metadata": {},
   "source": [
    "<div class=\"span5 alert alert-info\">\n",
    "<h3>Exercise Set VIII: Enrichment <b>(Optional)</b></h3>\n",
    "\n",
    "<p>\n",
    "There are several additional things we could try. Try some of these as exercises:\n",
    "<ol>\n",
    "<li> Build a Naive Bayes model where the features are n-grams instead of words. N-grams are phrases containing n words next to each other: a bigram contains 2 words, a trigram contains 3 words, and 6-gram contains 6 words. This is useful because \"not good\" and \"so good\" mean very different things. On the other hand, as n increases, the model does not scale well since the feature set becomes more sparse.\n",
    "<li> Try a model besides Naive Bayes, one that would allow for interactions between words -- for example, a Random Forest classifier.\n",
    "<li> Try adding supplemental features -- information about genre, director, cast, etc.\n",
    "<li> Use word2vec or [Latent Dirichlet Allocation](https://en.wikipedia.org/wiki/Latent_Dirichlet_allocation) to group words into topics and use those topics for prediction.\n",
    "<li> Use TF-IDF weighting instead of word counts.\n",
    "</ol>\n",
    "</p>\n",
    "\n",
    "<b>Exercise:</b> Try at least one of these ideas to improve the model (or any other ideas of your own). Implement here and report on the result. \n",
    "</div>"
   ]
  },
  {
   "cell_type": "code",
   "execution_count": 21,
   "metadata": {},
   "outputs": [],
   "source": [
    "# Your turn"
   ]
  },
  {
   "cell_type": "code",
   "execution_count": null,
   "metadata": {},
   "outputs": [],
   "source": []
  },
  {
   "cell_type": "code",
   "execution_count": null,
   "metadata": {},
   "outputs": [],
   "source": []
  },
  {
   "cell_type": "markdown",
   "metadata": {},
   "source": [
    "Reference resources:\n",
    "https://datascience.stackexchange.com/questions/30473/how-does-the-mutlinomial-bayess-alpha-parameter-affects-the-text-classificati"
   ]
  }
 ],
 "metadata": {
  "kernelspec": {
   "display_name": "Python 3",
   "language": "python",
   "name": "python3"
  },
  "language_info": {
   "codemirror_mode": {
    "name": "ipython",
    "version": 3
   },
   "file_extension": ".py",
   "mimetype": "text/x-python",
   "name": "python",
   "nbconvert_exporter": "python",
   "pygments_lexer": "ipython3",
   "version": "3.7.0"
  }
 },
 "nbformat": 4,
 "nbformat_minor": 1
}
