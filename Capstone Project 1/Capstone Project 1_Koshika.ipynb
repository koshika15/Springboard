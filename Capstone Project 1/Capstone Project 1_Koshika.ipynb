{
 "cells": [
  {
   "cell_type": "code",
   "execution_count": 1,
   "metadata": {},
   "outputs": [],
   "source": [
    "# import all relevant packages\n",
    "import pandas as pd"
   ]
  },
  {
   "cell_type": "code",
   "execution_count": 2,
   "metadata": {},
   "outputs": [],
   "source": [
    "# Read required files\n",
    "title_akas=pd.read_csv('https://datasets.imdbws.com/title.akas.tsv.gz',delimiter='\\t',usecols=[0,2,3,4],na_values='\\\\N',dtype={'isOriginalTitle':str})\n",
    "title_basics=pd.read_csv('https://datasets.imdbws.com/title.basics.tsv.gz',delimiter='\\t',usecols=[0,1,2,3,5,7,8],na_values='\\\\N',dtype={'startYear':str, 'runtimeMinutes':str})\n",
    "title_crew=pd.read_csv('https://datasets.imdbws.com/title.crew.tsv.gz',delimiter='\\t',na_values='\\\\N')\n",
    "title_principals=pd.read_csv('https://datasets.imdbws.com/title.principals.tsv.gz',delimiter='\\t',usecols=[0,2,3],na_values='\\\\N')\n",
    "title_ratings=pd.read_csv('https://datasets.imdbws.com/title.ratings.tsv.gz',delimiter='\\t',na_values='\\\\N')\n",
    "name_basics=pd.read_csv('https://datasets.imdbws.com/name.basics.tsv.gz',delimiter='\\t',usecols=[0,1,2,3,4],na_values='\\\\N')"
   ]
  },
  {
   "cell_type": "code",
   "execution_count": 3,
   "metadata": {},
   "outputs": [
    {
     "name": "stdout",
     "output_type": "stream",
     "text": [
      "title_akas (3434060, 4)\n",
      "title_basics (5396837, 7)\n",
      "title_crew (5396837, 3)\n",
      "title_principals (30759794, 3)\n",
      "title_ratings (883732, 3)\n",
      "name_basics (8953104, 5)\n"
     ]
    }
   ],
   "source": [
    "# print the shape of all datasets\n",
    "print('title_akas',title_akas.shape)\n",
    "print('title_basics',title_basics.shape)\n",
    "print('title_crew',title_crew.shape)\n",
    "print('title_principals',title_principals.shape)\n",
    "print('title_ratings',title_ratings.shape)\n",
    "print('name_basics',name_basics.shape)"
   ]
  },
  {
   "cell_type": "code",
   "execution_count": 4,
   "metadata": {},
   "outputs": [],
   "source": [
    "# Merge 2 titles tables: merged\n",
    "merged=pd.merge(title_basics,title_akas,left_on='tconst', right_on='titleId',how='left')"
   ]
  },
  {
   "cell_type": "code",
   "execution_count": 5,
   "metadata": {},
   "outputs": [],
   "source": [
    "# Filter merged dataset to contain only US titles released after 1980: temp_title\n",
    "temp_title=merged[((merged.region=='US') & (merged.titleType=='movie') & (merged.startYear>'1980') & (merged.startYear<'2017'))].drop_duplicates('titleId').drop('titleId',axis=1)\n"
   ]
  },
  {
   "cell_type": "code",
   "execution_count": 6,
   "metadata": {},
   "outputs": [],
   "source": [
    "# Merge title dataset with title_ratings and title_principals dataframe: title1\n",
    "title=pd.merge(temp_title, title_ratings,on='tconst',how='inner').merge(title_principals,on='tconst',how='inner').merge(name_basics,on='nconst',how='left')"
   ]
  },
  {
   "cell_type": "code",
   "execution_count": 7,
   "metadata": {},
   "outputs": [
    {
     "data": {
      "text/plain": [
       "(404715, 18)"
      ]
     },
     "execution_count": 7,
     "metadata": {},
     "output_type": "execute_result"
    }
   ],
   "source": [
    "title.shape"
   ]
  },
  {
   "cell_type": "code",
   "execution_count": 8,
   "metadata": {},
   "outputs": [],
   "source": [
    "title.to_csv('title.csv')"
   ]
  },
  {
   "cell_type": "code",
   "execution_count": null,
   "metadata": {},
   "outputs": [],
   "source": []
  }
 ],
 "metadata": {
  "kernelspec": {
   "display_name": "Python 3",
   "language": "python",
   "name": "python3"
  },
  "language_info": {
   "codemirror_mode": {
    "name": "ipython",
    "version": 3
   },
   "file_extension": ".py",
   "mimetype": "text/x-python",
   "name": "python",
   "nbconvert_exporter": "python",
   "pygments_lexer": "ipython3",
   "version": "3.7.0"
  }
 },
 "nbformat": 4,
 "nbformat_minor": 2
}
