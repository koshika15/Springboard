{
 "cells": [
  {
   "cell_type": "code",
   "execution_count": 1,
   "metadata": {},
   "outputs": [],
   "source": [
    "# import all relevant packages\n",
    "import pandas as pd"
   ]
  },
  {
   "cell_type": "code",
   "execution_count": 2,
   "metadata": {},
   "outputs": [],
   "source": [
    "# Read required files\n",
    "title_akas=pd.read_csv('https://datasets.imdbws.com/title.akas.tsv.gz',delimiter='\\t',usecols=[0,2,3,4],na_values='\\\\N',dtype={'isOriginalTitle':str})\n",
    "title_basics=pd.read_csv('https://datasets.imdbws.com/title.basics.tsv.gz',delimiter='\\t',usecols=[0,1,2,3,5,7,8],na_values='\\\\N',dtype={'startYear':str, 'runtimeMinutes':str})\n",
    "title_crew=pd.read_csv('https://datasets.imdbws.com/title.crew.tsv.gz',delimiter='\\t',na_values='\\\\N')\n",
    "title_principals=pd.read_csv('https://datasets.imdbws.com/title.principals.tsv.gz',delimiter='\\t',usecols=[0,2,3],na_values='\\\\N')\n",
    "title_ratings=pd.read_csv('https://datasets.imdbws.com/title.ratings.tsv.gz',delimiter='\\t',na_values='\\\\N')\n",
    "name_basics=pd.read_csv('https://datasets.imdbws.com/name.basics.tsv.gz',delimiter='\\t',usecols=[0,1,2,3,4],na_values='\\\\N')"
   ]
  },
  {
   "cell_type": "code",
   "execution_count": 3,
   "metadata": {},
   "outputs": [
    {
     "name": "stdout",
     "output_type": "stream",
     "text": [
      "title_akas (3434060, 4)\n",
      "title_basics (5396837, 7)\n",
      "title_crew (5396837, 3)\n",
      "title_principals (30759794, 3)\n",
      "title_ratings (883732, 3)\n",
      "name_basics (8953104, 5)\n"
     ]
    }
   ],
   "source": [
    "# print the shape of all datasets\n",
    "print('title_akas',title_akas.shape)\n",
    "print('title_basics',title_basics.shape)\n",
    "print('title_crew',title_crew.shape)\n",
    "print('title_principals',title_principals.shape)\n",
    "print('title_ratings',title_ratings.shape)\n",
    "print('name_basics',name_basics.shape)"
   ]
  },
  {
   "cell_type": "code",
   "execution_count": 4,
   "metadata": {},
   "outputs": [],
   "source": [
    "# Merge 2 titles tables: merged\n",
    "merged=pd.merge(title_basics,title_akas,left_on='tconst', right_on='titleId',how='left')"
   ]
  },
  {
   "cell_type": "code",
   "execution_count": 5,
   "metadata": {},
   "outputs": [],
   "source": [
    "# Filter merged dataset to contain only US titles released after 1980: temp_title\n",
    "temp_title=merged[((merged.region=='US') & (merged.titleType=='movie') & (merged.startYear>'1980') & (merged.startYear<'2017'))].drop_duplicates('titleId').drop('titleId',axis=1)\n"
   ]
  },
  {
   "cell_type": "code",
   "execution_count": 6,
   "metadata": {},
   "outputs": [],
   "source": [
    "# Merge title dataset with title_ratings and title_principals dataframe: title1\n",
    "title=pd.merge(temp_title, title_ratings,on='tconst',how='inner').merge(title_principals,on='tconst',how='inner').merge(name_basics,on='nconst',how='left')"
   ]
  },
  {
   "cell_type": "code",
   "execution_count": 9,
   "metadata": {},
   "outputs": [
    {
     "data": {
      "text/html": [
       "<div>\n",
       "<style scoped>\n",
       "    .dataframe tbody tr th:only-of-type {\n",
       "        vertical-align: middle;\n",
       "    }\n",
       "\n",
       "    .dataframe tbody tr th {\n",
       "        vertical-align: top;\n",
       "    }\n",
       "\n",
       "    .dataframe thead th {\n",
       "        text-align: right;\n",
       "    }\n",
       "</style>\n",
       "<table border=\"1\" class=\"dataframe\">\n",
       "  <thead>\n",
       "    <tr style=\"text-align: right;\">\n",
       "      <th></th>\n",
       "      <th>tconst</th>\n",
       "      <th>titleType</th>\n",
       "      <th>primaryTitle</th>\n",
       "      <th>originalTitle</th>\n",
       "      <th>startYear</th>\n",
       "      <th>runtimeMinutes</th>\n",
       "      <th>genres</th>\n",
       "      <th>title</th>\n",
       "      <th>region</th>\n",
       "      <th>language</th>\n",
       "      <th>averageRating</th>\n",
       "      <th>numVotes</th>\n",
       "      <th>nconst</th>\n",
       "      <th>category</th>\n",
       "      <th>primaryName</th>\n",
       "      <th>birthYear</th>\n",
       "      <th>deathYear</th>\n",
       "      <th>primaryProfession</th>\n",
       "    </tr>\n",
       "  </thead>\n",
       "  <tbody>\n",
       "    <tr>\n",
       "      <th>0</th>\n",
       "      <td>tt0035423</td>\n",
       "      <td>movie</td>\n",
       "      <td>Kate &amp; Leopold</td>\n",
       "      <td>Kate &amp; Leopold</td>\n",
       "      <td>2001</td>\n",
       "      <td>118</td>\n",
       "      <td>Comedy,Fantasy,Romance</td>\n",
       "      <td>Kate and Leopold</td>\n",
       "      <td>US</td>\n",
       "      <td>NaN</td>\n",
       "      <td>6.4</td>\n",
       "      <td>72374</td>\n",
       "      <td>nm0107463</td>\n",
       "      <td>editor</td>\n",
       "      <td>David Brenner</td>\n",
       "      <td>NaN</td>\n",
       "      <td>NaN</td>\n",
       "      <td>editor,editorial_department</td>\n",
       "    </tr>\n",
       "    <tr>\n",
       "      <th>1</th>\n",
       "      <td>tt0035423</td>\n",
       "      <td>movie</td>\n",
       "      <td>Kate &amp; Leopold</td>\n",
       "      <td>Kate &amp; Leopold</td>\n",
       "      <td>2001</td>\n",
       "      <td>118</td>\n",
       "      <td>Comedy,Fantasy,Romance</td>\n",
       "      <td>Kate and Leopold</td>\n",
       "      <td>US</td>\n",
       "      <td>NaN</td>\n",
       "      <td>6.4</td>\n",
       "      <td>72374</td>\n",
       "      <td>nm0000212</td>\n",
       "      <td>actress</td>\n",
       "      <td>Meg Ryan</td>\n",
       "      <td>1961.0</td>\n",
       "      <td>NaN</td>\n",
       "      <td>actress,producer,soundtrack</td>\n",
       "    </tr>\n",
       "    <tr>\n",
       "      <th>2</th>\n",
       "      <td>tt0035423</td>\n",
       "      <td>movie</td>\n",
       "      <td>Kate &amp; Leopold</td>\n",
       "      <td>Kate &amp; Leopold</td>\n",
       "      <td>2001</td>\n",
       "      <td>118</td>\n",
       "      <td>Comedy,Fantasy,Romance</td>\n",
       "      <td>Kate and Leopold</td>\n",
       "      <td>US</td>\n",
       "      <td>NaN</td>\n",
       "      <td>6.4</td>\n",
       "      <td>72374</td>\n",
       "      <td>nm0413168</td>\n",
       "      <td>actor</td>\n",
       "      <td>Hugh Jackman</td>\n",
       "      <td>1968.0</td>\n",
       "      <td>NaN</td>\n",
       "      <td>actor,soundtrack,producer</td>\n",
       "    </tr>\n",
       "    <tr>\n",
       "      <th>3</th>\n",
       "      <td>tt0035423</td>\n",
       "      <td>movie</td>\n",
       "      <td>Kate &amp; Leopold</td>\n",
       "      <td>Kate &amp; Leopold</td>\n",
       "      <td>2001</td>\n",
       "      <td>118</td>\n",
       "      <td>Comedy,Fantasy,Romance</td>\n",
       "      <td>Kate and Leopold</td>\n",
       "      <td>US</td>\n",
       "      <td>NaN</td>\n",
       "      <td>6.4</td>\n",
       "      <td>72374</td>\n",
       "      <td>nm0000630</td>\n",
       "      <td>actor</td>\n",
       "      <td>Liev Schreiber</td>\n",
       "      <td>1967.0</td>\n",
       "      <td>NaN</td>\n",
       "      <td>actor,producer,miscellaneous</td>\n",
       "    </tr>\n",
       "    <tr>\n",
       "      <th>4</th>\n",
       "      <td>tt0035423</td>\n",
       "      <td>movie</td>\n",
       "      <td>Kate &amp; Leopold</td>\n",
       "      <td>Kate &amp; Leopold</td>\n",
       "      <td>2001</td>\n",
       "      <td>118</td>\n",
       "      <td>Comedy,Fantasy,Romance</td>\n",
       "      <td>Kate and Leopold</td>\n",
       "      <td>US</td>\n",
       "      <td>NaN</td>\n",
       "      <td>6.4</td>\n",
       "      <td>72374</td>\n",
       "      <td>nm0005227</td>\n",
       "      <td>actor</td>\n",
       "      <td>Breckin Meyer</td>\n",
       "      <td>1974.0</td>\n",
       "      <td>NaN</td>\n",
       "      <td>actor,writer,producer</td>\n",
       "    </tr>\n",
       "  </tbody>\n",
       "</table>\n",
       "</div>"
      ],
      "text/plain": [
       "      tconst titleType    primaryTitle   originalTitle startYear  \\\n",
       "0  tt0035423     movie  Kate & Leopold  Kate & Leopold      2001   \n",
       "1  tt0035423     movie  Kate & Leopold  Kate & Leopold      2001   \n",
       "2  tt0035423     movie  Kate & Leopold  Kate & Leopold      2001   \n",
       "3  tt0035423     movie  Kate & Leopold  Kate & Leopold      2001   \n",
       "4  tt0035423     movie  Kate & Leopold  Kate & Leopold      2001   \n",
       "\n",
       "  runtimeMinutes                  genres             title region language  \\\n",
       "0            118  Comedy,Fantasy,Romance  Kate and Leopold     US      NaN   \n",
       "1            118  Comedy,Fantasy,Romance  Kate and Leopold     US      NaN   \n",
       "2            118  Comedy,Fantasy,Romance  Kate and Leopold     US      NaN   \n",
       "3            118  Comedy,Fantasy,Romance  Kate and Leopold     US      NaN   \n",
       "4            118  Comedy,Fantasy,Romance  Kate and Leopold     US      NaN   \n",
       "\n",
       "   averageRating  numVotes     nconst category     primaryName  birthYear  \\\n",
       "0            6.4     72374  nm0107463   editor   David Brenner        NaN   \n",
       "1            6.4     72374  nm0000212  actress        Meg Ryan     1961.0   \n",
       "2            6.4     72374  nm0413168    actor    Hugh Jackman     1968.0   \n",
       "3            6.4     72374  nm0000630    actor  Liev Schreiber     1967.0   \n",
       "4            6.4     72374  nm0005227    actor   Breckin Meyer     1974.0   \n",
       "\n",
       "   deathYear             primaryProfession  \n",
       "0        NaN   editor,editorial_department  \n",
       "1        NaN   actress,producer,soundtrack  \n",
       "2        NaN     actor,soundtrack,producer  \n",
       "3        NaN  actor,producer,miscellaneous  \n",
       "4        NaN         actor,writer,producer  "
      ]
     },
     "execution_count": 9,
     "metadata": {},
     "output_type": "execute_result"
    }
   ],
   "source": [
    "title.head()"
   ]
  },
  {
   "cell_type": "code",
   "execution_count": 10,
   "metadata": {},
   "outputs": [
    {
     "name": "stdout",
     "output_type": "stream",
     "text": [
      "<class 'pandas.core.frame.DataFrame'>\n",
      "Int64Index: 404715 entries, 0 to 404714\n",
      "Data columns (total 18 columns):\n",
      "tconst               404715 non-null object\n",
      "titleType            404715 non-null object\n",
      "primaryTitle         404715 non-null object\n",
      "originalTitle        404715 non-null object\n",
      "startYear            404715 non-null object\n",
      "runtimeMinutes       371526 non-null object\n",
      "genres               395421 non-null object\n",
      "title                404715 non-null object\n",
      "region               404715 non-null object\n",
      "language             2295 non-null object\n",
      "averageRating        404715 non-null float64\n",
      "numVotes             404715 non-null int64\n",
      "nconst               404715 non-null object\n",
      "category             404715 non-null object\n",
      "primaryName          404672 non-null object\n",
      "birthYear            155636 non-null float64\n",
      "deathYear            20124 non-null float64\n",
      "primaryProfession    391396 non-null object\n",
      "dtypes: float64(3), int64(1), object(14)\n",
      "memory usage: 58.7+ MB\n"
     ]
    }
   ],
   "source": [
    "title.info()"
   ]
  },
  {
   "cell_type": "code",
   "execution_count": 7,
   "metadata": {},
   "outputs": [
    {
     "data": {
      "text/plain": [
       "(404715, 18)"
      ]
     },
     "execution_count": 7,
     "metadata": {},
     "output_type": "execute_result"
    }
   ],
   "source": [
    "title.shape"
   ]
  },
  {
   "cell_type": "code",
   "execution_count": 8,
   "metadata": {},
   "outputs": [],
   "source": [
    "title.to_csv('title.csv')"
   ]
  },
  {
   "cell_type": "code",
   "execution_count": null,
   "metadata": {},
   "outputs": [],
   "source": []
  }
 ],
 "metadata": {
  "kernelspec": {
   "display_name": "Python 3",
   "language": "python",
   "name": "python3"
  },
  "language_info": {
   "codemirror_mode": {
    "name": "ipython",
    "version": 3
   },
   "file_extension": ".py",
   "mimetype": "text/x-python",
   "name": "python",
   "nbconvert_exporter": "python",
   "pygments_lexer": "ipython3",
   "version": "3.7.0"
  }
 },
 "nbformat": 4,
 "nbformat_minor": 2
}
